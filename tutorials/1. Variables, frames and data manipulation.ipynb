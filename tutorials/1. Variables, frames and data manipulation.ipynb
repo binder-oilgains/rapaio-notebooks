{
 "cells": [
  {
   "cell_type": "code",
   "execution_count": 1,
   "metadata": {},
   "outputs": [],
   "source": [
    "%load ../rapaio-bootstrap"
   ]
  },
  {
   "cell_type": "markdown",
   "metadata": {
    "toc-hr-collapsed": false
   },
   "source": [
    "## 1. Variables, frames and data manipulation\n",
    "\n",
    "There are two main data structures used all over the place: variables and frames. A variable is a list of values of the same type. You can think of a variable as a column in a tabular data format. A set of variables is a data frame. You can think about a frame as a table, with rows for observations and columns for variables.\n",
    "\n",
    "Let's take a simple example. We will load the iris data set, which is already contained in the library."
   ]
  },
  {
   "cell_type": "code",
   "execution_count": 2,
   "metadata": {},
   "outputs": [
    {
     "name": "stdout",
     "output_type": "stream",
     "text": [
      "Frame Summary\n",
      "=============\n",
      "* rowCount: 150\n",
      "* complete: 150/150\n",
      "* varCount: 5\n",
      "* varNames: \n",
      "\n",
      "0. sepal-length : double  | 3.  petal-width : double  | \n",
      "1.  sepal-width : double  | 4.        class : nominal | \n",
      "2. petal-length : double  | \n",
      "\n",
      "   sepal-length      sepal-width     petal-length      petal-width            class \n",
      "   Min. : 4.300     Min. : 2.000     Min. : 1.000     Min. : 0.100      setosa : 50 \n",
      "1st Qu. : 5.100  1st Qu. : 2.800  1st Qu. : 1.600  1st Qu. : 0.300  versicolor : 50 \n",
      " Median : 5.800   Median : 3.000   Median : 4.350   Median : 1.300   virginica : 50 \n",
      "   Mean : 5.843     Mean : 3.057     Mean : 3.758     Mean : 1.199                  \n",
      "2nd Qu. : 6.400  2nd Qu. : 3.300  2nd Qu. : 5.100  2nd Qu. : 1.800                  \n",
      "   Max. : 7.900     Max. : 4.400     Max. : 6.900     Max. : 2.500                  \n",
      "                                                                                    \n",
      "\n"
     ]
    }
   ],
   "source": [
    "Frame df = Datasets.loadIrisDataset();\n",
    "df.printSummary();"
   ]
  },
  {
   "cell_type": "markdown",
   "metadata": {},
   "source": [
    "Frame summary is a simple way to see some general information about a data frame. We see the data frame contains $150$ observations. The data set contains $5$ variables.\n",
    "\n",
    "The listing continues with enumerating the name and type of the variables contained in a data frame. Notice that there are four double variables and one nominal variable, named `class`.\n",
    "\n",
    "The summary listing ends with a section which describes each variable. For double variables the summary contains $6$ number summary. These are some sample order statistics and sample mean. We have there the minimum and maximum, median, first and third quartile and the mean. For nominal values we have an enumeration of the first most frequent levels and the associated counts. For our `class` variable we see that there are three levels, each with $50$ instances."
   ]
  },
  {
   "cell_type": "markdown",
   "metadata": {},
   "source": [
    "### 1.1 Variables\n",
    "\n",
    "In statistics a variable has multiple meanings. A random variable is a process which produces values according to a distribution. Random variables can have multiple dimensions, so they can be grouped in vectors. The rapaio library does not model the concept of random variable. Instead the `Var` objects models the concept of values drawn from a unidimensional random variable, in other words a sample of values. As a consequence a `Var` object has a size and uses indexes to access the values from the sample. \n",
    "\n",
    "A rapaio variable is a vector of values which have the same type and shares the same meaning. Each variable implements an interface called `Var`. Interface `Var` implements various useful methods for various kinds of tasks:\n",
    "\n",
    "* _manipulate values_ from the variable by adding, removing, inserting and updating with different representations\n",
    "* _naming_ a variable offers an alternate way to identify a variable into a frame and it is also useful for nice output information\n",
    "* _manipulate sets of values_ by allowing variables concatenation by binding rows and filter out values by mapping\n",
    "* _streaming_ allows traversal of variables by java 8 streams\n",
    "* other tools like deep copy, deep compare, summary, etc\n",
    "\n",
    "#### 1.1.1 VarType: storage and representation of a variable\n",
    "\n",
    "There are two main concepts which have to be understood when working with variables: **storage** and **representation**. All the variables are able to store data inside using a certain Java data type, for example `double`, `int`, `String`, etc. One variable can use for storage and internal manipulations a single Java data type. In the same time, the data from variables can be represented in different ways, all of them being available through the `Var` interface for all types of variables.\n",
    "\n",
    "However not all the representations are possible for all types of variables, because some of them does not make sense. For example double floating values can be represented as strings, which is fine, however strings in general cannot be represented as double values.\n",
    "\n",
    "These are the following data representations all the `Var`-iables can implement:\n",
    "\n",
    "* **double** - double\n",
    "* **label** - String\n",
    "* **int** - int\n",
    "* **long** - long / Instant\n",
    "\n",
    "The `Var` interface offers methods to get/update/insert values for all those data representations. Again, notice that not all data representations are available for all variables. For example the label representation is available for all sort of variables. This is acceptable, since when storing information into a text-like data format, any data type should be transformed into a string and should be read from a string representation.\n",
    "\n",
    "To accomodate all those legal possibilities, the rapaio library has a set of predefined variable types, which can be found in the enum `VarType`.\n",
    "\n",
    "The defined variable types:\n",
    "\n",
    "* **BINARY** - binary values\n",
    "* **INT** - integer values\n",
    "* **NOMINAL** - string values from a predefined set of values, with no ordering \\(for example: _male_, _female_\\)\n",
    "* **DOUBLE** - double precision floating point values\n",
    "* **LONG** - time related variables\n",
    "* **TEXT** - strings with free form\n",
    "\n",
    "A data type is important for the following reasons:\n",
    "\n",
    "* gives a certain useful meaning for variables in such a way that machine learning or statistical algorithms can leverage to maximum potential the meta information about variables\n",
    "* encapsulates the stored data type artifacts and hide those details from the user, while allowing the usage of a single unitar interface for all variables\n"
   ]
  },
  {
   "cell_type": "markdown",
   "metadata": {
    "toc-hr-collapsed": false
   },
   "source": [
    "#### 1.2 Numeric double variables\n",
    "\n",
    "Numeric double variables are defined by`VarDouble`and contains discrete or continuous numerical values stored as double precision float values. Double variables offers value and label representations. All other representations can be used, but with caution since it can alter the content. For example int representation truncates floating point values to the biggest integer values, however the int setter sets a correct value since an integer can be converted to a double.\n",
    "\n",
    "##### 1.2.1 Various builders\n",
    "\n",
    "Double variables can be built in various was and are handy shortcuts for various scenarios.\n",
    "\n",
    "**Empty variables**"
   ]
  },
  {
   "cell_type": "code",
   "execution_count": 3,
   "metadata": {},
   "outputs": [],
   "source": [
    "// builds a variable with no data\n",
    "Var empty1 = VarDouble.empty();\n",
    "\n",
    "// builds a variable of a given size which contains only missing data\n",
    "Var empty2 = VarDouble.empty(100);"
   ]
  },
  {
   "cell_type": "markdown",
   "metadata": {},
   "source": [
    "**Scalar variables**"
   ]
  },
  {
   "cell_type": "code",
   "execution_count": 4,
   "metadata": {},
   "outputs": [],
   "source": [
    "Var scalar = VarDouble.scalar(Math.PI);"
   ]
  },
  {
   "cell_type": "markdown",
   "metadata": {},
   "source": [
    "**Sequence of values**"
   ]
  },
  {
   "cell_type": "code",
   "execution_count": 5,
   "metadata": {},
   "outputs": [],
   "source": [
    "// a sequence of numbers, starting from 0, ending with 5 with step 1\n",
    "Var seq1 = VarDouble.seq(5);\n",
    "\n",
    "// a sequence of numbers, starting from 1, ending with 5 with step 1\n",
    "Var seq2 = VarDouble.seq(1, 5);\n",
    "\n",
    "// a sequence of numbers starting at 0, ending at 1 with step 0.1\n",
    "Var seq3 = VarDouble.seq(0, 1, 0.1);"
   ]
  },
  {
   "cell_type": "markdown",
   "metadata": {},
   "source": [
    "**Variables filled with the same number**"
   ]
  },
  {
   "cell_type": "code",
   "execution_count": 6,
   "metadata": {},
   "outputs": [],
   "source": [
    "// build a variable of a given size which contains only zeros\n",
    "Var fill1 = VarDouble.fill(5);\n",
    "\n",
    "// builds a variable of a given size which contains only ones\n",
    "Var fill2 = VarDouble.fill(5, 1);"
   ]
  },
  {
   "cell_type": "markdown",
   "metadata": {},
   "source": [
    "**Copy from another source**"
   ]
  },
  {
   "cell_type": "code",
   "execution_count": 7,
   "metadata": {},
   "outputs": [],
   "source": [
    "// numeric variable which contains the values copied from another variable\n",
    "Var copy1 = VarDouble.copy(seq1);\n",
    "\n",
    "// numeric variable with values copied from a collection\n",
    "Normal normal = Normal.std();\n",
    "List<Double> list1 = DoubleStream.generate(normal::sampleNext).limit(10).boxed().collect(Collectors.toList());\n",
    "Var copy2 = VarDouble.copy(list1);\n",
    "\n",
    "// numeric variable with values copied from a double array\n",
    "Var copy3 = VarDouble.copy(1, 3, 4.0, 7);\n",
    "\n",
    "// numeric variable with values copied from an int array\n",
    "Var copy4 = VarDouble.copy(1, 3, 4, 7);"
   ]
  },
  {
   "cell_type": "markdown",
   "metadata": {},
   "source": [
    "**Generated using a lambda function**"
   ]
  },
  {
   "cell_type": "code",
   "execution_count": 8,
   "metadata": {},
   "outputs": [],
   "source": [
    "// numeric variables with values generated as the sqrt of the row number\n",
    "Var from1 = VarDouble.from(10, Math::sqrt);\n",
    "\n",
    "// numeric variable with values generated using a function which receives a row value\n",
    "// as parameter and outputs a double value; in this case we generate values as\n",
    "// a sum of the values of other two variables\n",
    "Var from2 = VarDouble.from(4, row -> copy3.getDouble(row) + copy4.getDouble(row));\n",
    "\n",
    "// numeric variable with values generated from values of another variable using\n",
    "// a transformation provided via a lambda function\n",
    "Var from3 = VarDouble.from(from1, x -> x + 1);"
   ]
  },
  {
   "cell_type": "markdown",
   "metadata": {},
   "source": [
    "**Wrapper around a double array**\n",
    "This builder creates a new numeric variable instance as a wrapper around a double array of values. Notice that it is not the same as the copy builder, since in the wrapper case any change in the new numerical variable is reflected also in the original array of numbers. In the case of the copy builder this is not true, since the copy builder \\(as its name implies\\) creates an internal copy of the array.\n"
   ]
  },
  {
   "cell_type": "code",
   "execution_count": 9,
   "metadata": {},
   "outputs": [],
   "source": [
    "Var wrap1 = VarDouble.wrap(new double[] {1, 4, 19, 23, 5});"
   ]
  },
  {
   "cell_type": "markdown",
   "metadata": {},
   "source": [
    "##### 1.2.2 Inspect a numerical variable\n",
    "\n",
    "Most of the objects which contains information implements the `Printable` interface. This interface allows one to display a summary of the content of the given object. This is the case also with the numerical variables. Additionally, the numerical variables implements also two other methods, one which displays all the values and another one which displays only the first values."
   ]
  },
  {
   "cell_type": "code",
   "execution_count": 10,
   "metadata": {},
   "outputs": [
    {
     "name": "stdout",
     "output_type": "stream",
     "text": [
      "VarDouble [name:\"x\", rowCount:200]\n",
      " row    value     row    value     row    value     row    value     row    value     row    value    \n",
      "  [0]  0          [17]  4.1231056  [34]  5.8309519  [51]  7.1414284  [68]  8.2462113 [185] 13.6014705 \n",
      "  [1]  1          [18]  4.2426407  [35]  5.9160798  [52]  7.2111026  [69]  8.3066239 [186] 13.6381817 \n",
      "  [2]  1.4142136  [19]  4.3588989  [36]  6          [53]  7.2801099  [70]  8.3666003 [187] 13.6747943 \n",
      "  [3]  1.7320508  [20]  4.472136   [37]  6.0827625  [54]  7.3484692  [71]  8.4261498 [188] 13.7113092 \n",
      "  [4]  2          [21]  4.5825757  [38]  6.164414   [55]  7.4161985  [72]  8.4852814 [189] 13.7477271 \n",
      "  [5]  2.236068   [22]  4.6904158  [39]  6.244998   [56]  7.4833148  [73]  8.5440037 [190] 13.7840488 \n",
      "  [6]  2.4494897  [23]  4.7958315  [40]  6.3245553  [57]  7.5498344  [74]  8.6023253 [191] 13.820275  \n",
      "  [7]  2.6457513  [24]  4.8989795  [41]  6.4031242  [58]  7.6157731  [75]  8.660254  [192] 13.8564065 \n",
      "  [8]  2.8284271  [25]  5          [42]  6.4807407  [59]  7.6811457  [76]  8.7177979 [193] 13.892444  \n",
      "  [9]  3          [26]  5.0990195  [43]  6.5574385  [60]  7.7459667  [77]  8.7749644 [194] 13.9283883 \n",
      " [10]  3.1622777  [27]  5.1961524  [44]  6.6332496  [61]  7.8102497  [78]  8.8317609 [195] 13.96424   \n",
      " [11]  3.3166248  [28]  5.2915026  [45]  6.7082039  [62]  7.8740079  ...     ...     [196] 14         \n",
      " [12]  3.4641016  [29]  5.3851648  [46]  6.78233    [63]  7.9372539 [180] 13.4164079 [197] 14.0356688 \n",
      " [13]  3.6055513  [30]  5.4772256  [47]  6.8556546  [64]  8         [181] 13.453624  [198] 14.0712473 \n",
      " [14]  3.7416574  [31]  5.5677644  [48]  6.9282032  [65]  8.0622577 [182] 13.4907376 [199] 14.106736  \n",
      " [15]  3.8729833  [32]  5.6568542  [49]  7          [66]  8.1240384 [183] 13.5277493                  \n",
      " [16]  4          [33]  5.7445626  [50]  7.0710678  [67]  8.1853528 [184] 13.56466   \n",
      "\n",
      "VarDouble [name:\"x\", rowCount:200]\n",
      " row    value     row    value     row    value     row    value     row    value     row    value    \n",
      "  [0]  0          [34]  5.8309519  [68]  8.2462113 [102] 10.0995049 [136] 11.6619038 [170] 13.0384048 \n",
      "  [1]  1          [35]  5.9160798  [69]  8.3066239 [103] 10.1488916 [137] 11.7046999 [171] 13.0766968 \n",
      "  [2]  1.4142136  [36]  6          [70]  8.3666003 [104] 10.198039  [138] 11.7473401 [172] 13.114877  \n",
      "  [3]  1.7320508  [37]  6.0827625  [71]  8.4261498 [105] 10.2469508 [139] 11.7898261 [173] 13.1529464 \n",
      "  [4]  2          [38]  6.164414   [72]  8.4852814 [106] 10.2956301 [140] 11.8321596 [174] 13.190906  \n",
      "  [5]  2.236068   [39]  6.244998   [73]  8.5440037 [107] 10.3440804 [141] 11.8743421 [175] 13.2287566 \n",
      "  [6]  2.4494897  [40]  6.3245553  [74]  8.6023253 [108] 10.3923048 [142] 11.9163753 [176] 13.2664992 \n",
      "  [7]  2.6457513  [41]  6.4031242  [75]  8.660254  [109] 10.4403065 [143] 11.9582607 [177] 13.3041347 \n",
      "  [8]  2.8284271  [42]  6.4807407  [76]  8.7177979 [110] 10.4880885 [144] 12         [178] 13.3416641 \n",
      "  [9]  3          [43]  6.5574385  [77]  8.7749644 [111] 10.5356538 [145] 12.0415946 [179] 13.3790882 \n",
      " [10]  3.1622777  [44]  6.6332496  [78]  8.8317609 [112] 10.5830052 [146] 12.083046  [180] 13.4164079 \n",
      " [11]  3.3166248  [45]  6.7082039  [79]  8.8881944 [113] 10.6301458 [147] 12.1243557 [181] 13.453624  \n",
      " [12]  3.4641016  [46]  6.78233    [80]  8.9442719 [114] 10.6770783 [148] 12.1655251 [182] 13.4907376 \n",
      " [13]  3.6055513  [47]  6.8556546  [81]  9         [115] 10.7238053 [149] 12.2065556 [183] 13.5277493 \n",
      " [14]  3.7416574  [48]  6.9282032  [82]  9.0553851 [116] 10.7703296 [150] 12.2474487 [184] 13.56466   \n",
      " [15]  3.8729833  [49]  7          [83]  9.1104336 [117] 10.8166538 [151] 12.2882057 [185] 13.6014705 \n",
      " [16]  4          [50]  7.0710678  [84]  9.1651514 [118] 10.8627805 [152] 12.328828  [186] 13.6381817 \n",
      " [17]  4.1231056  [51]  7.1414284  [85]  9.2195445 [119] 10.9087121 [153] 12.3693169 [187] 13.6747943 \n",
      " [18]  4.2426407  [52]  7.2111026  [86]  9.2736185 [120] 10.9544512 [154] 12.4096736 [188] 13.7113092 \n",
      " [19]  4.3588989  [53]  7.2801099  [87]  9.3273791 [121] 11         [155] 12.4498996 [189] 13.7477271 \n",
      " [20]  4.472136   [54]  7.3484692  [88]  9.3808315 [122] 11.045361  [156] 12.489996  [190] 13.7840488 \n",
      " [21]  4.5825757  [55]  7.4161985  [89]  9.4339811 [123] 11.0905365 [157] 12.5299641 [191] 13.820275  \n",
      " [22]  4.6904158  [56]  7.4833148  [90]  9.486833  [124] 11.1355287 [158] 12.5698051 [192] 13.8564065 \n",
      " [23]  4.7958315  [57]  7.5498344  [91]  9.539392  [125] 11.1803399 [159] 12.6095202 [193] 13.892444  \n",
      " [24]  4.8989795  [58]  7.6157731  [92]  9.591663  [126] 11.2249722 [160] 12.6491106 [194] 13.9283883 \n",
      " [25]  5          [59]  7.6811457  [93]  9.6436508 [127] 11.2694277 [161] 12.6885775 [195] 13.96424   \n",
      " [26]  5.0990195  [60]  7.7459667  [94]  9.6953597 [128] 11.3137085 [162] 12.7279221 [196] 14         \n",
      " [27]  5.1961524  [61]  7.8102497  [95]  9.7467943 [129] 11.3578167 [163] 12.7671453 [197] 14.0356688 \n",
      " [28]  5.2915026  [62]  7.8740079  [96]  9.797959  [130] 11.4017543 [164] 12.8062485 [198] 14.0712473 \n",
      " [29]  5.3851648  [63]  7.9372539  [97]  9.8488578 [131] 11.4455231 [165] 12.8452326 [199] 14.106736  \n",
      " [30]  5.4772256  [64]  8          [98]  9.8994949 [132] 11.4891253 [166] 12.8840987 \n",
      " [31]  5.5677644  [65]  8.0622577  [99]  9.9498744 [133] 11.5325626 [167] 12.922848  \n",
      " [32]  5.6568542  [66]  8.1240384 [100] 10         [134] 11.5758369 [168] 12.9614814 \n",
      " [33]  5.7445626  [67]  8.1853528 [101] 10.0498756 [135] 11.61895   [169] 13         \n",
      "\n",
      "> printSummary(var: x)\n",
      "name: x\n",
      "type: DOUBLE\n",
      "rows: 200, complete: 200, missing: 0\n",
      "   Min. :  0.000\n",
      "1st Qu. :  7.053\n",
      " Median :  9.975\n",
      "   Mean :  9.392\n",
      "2nd Qu. : 12.217\n",
      "   Max. : 14.107\n",
      "\n"
     ]
    }
   ],
   "source": [
    "// build a numerical variable with values as the sqrt\n",
    "// of the first 200 integer values\n",
    "Var x = VarDouble.from(200, Math::sqrt).withName(\"x\");\n",
    "\n",
    "// print a reasonable part of value\n",
    "x.printContent();\n",
    "\n",
    "// print all values of the variable\n",
    "x.printFullContent();\n",
    "\n",
    "// print a summary of the content of the variable\n",
    "x.printSummary();"
   ]
  },
  {
   "cell_type": "code",
   "execution_count": 11,
   "metadata": {},
   "outputs": [
    {
     "data": {
      "image/png": "[encoded data removed]",
      "text/plain": [
       "BufferedImage@1441da54: type = 7 ColorModel: #pixelBits = 32 numComponents = 4 color space = java.awt.color.ICC_ColorSpace@376db380 transparency = 3 has alpha = true isAlphaPre = true ByteInterleavedRaster: width = 600 height = 300 #numDataElements 4 dataOff[0] = 3"
      ]
     },
     "execution_count": 11,
     "metadata": {},
     "output_type": "execute_result"
    }
   ],
   "source": [
    "WS.image(points(x, VarDouble.from(x.rowCount(), Normal.std()::sampleNext), color(1), pch(3)), 600, 300);"
   ]
  },
  {
   "cell_type": "markdown",
   "metadata": {},
   "source": [
    "There are various mathemaical operations available under VarOp interface. The interface to those operators can be called using `op()` method on any variable. The fllowing examples uses some of those operators."
   ]
  },
  {
   "cell_type": "code",
   "execution_count": 12,
   "metadata": {},
   "outputs": [
    {
     "data": {
      "text/plain": [
       "1878.3420754046178"
      ]
     },
     "execution_count": 12,
     "metadata": {},
     "output_type": "execute_result"
    }
   ],
   "source": [
    "// computes the sum of all values in variable\n",
    "x.op().sum();"
   ]
  },
  {
   "cell_type": "code",
   "execution_count": 13,
   "metadata": {},
   "outputs": [
    {
     "name": "stdout",
     "output_type": "stream",
     "text": [
      "VarDouble [name:\"x\", rowCount:200]\n",
      " row    value    row    value    row    value    row    value    row    value    row    value    row    value   \n",
      "  [0] 0.6123724  [15] 2.0610636  [30] 2.4191374  [45] 2.6614289  [60] 2.849731   [75] 3.0058699 [190] 3.7628511 \n",
      "  [1] 1.1726039  [16] 2.0916501  [31] 2.4377786  [46] 2.6753187  [61] 2.8609875  [76] 3.0154267 [191] 3.7676617 \n",
      "  [2] 1.3376149  [17] 2.1208738  [32] 2.4559834  [47] 2.6889877  [62] 2.8721086  [77] 3.0248908 [192] 3.7724536 \n",
      "  [3] 1.4515684  [18] 2.1488696  [33] 2.473775   [48] 2.7024439  [63] 2.883098   [78] 3.0342645 [193] 3.777227  \n",
      "  [4] 1.5411035  [19] 2.1757525  [34] 2.4911748  [49] 2.7156951  [64] 2.8939592  ...     ...    [194] 3.7819821 \n",
      "  [5] 1.6158799  [20] 2.2016212  [35] 2.5082025  [50] 2.7287484  [65] 2.9046958 [180] 3.7136785 [195] 3.7867189 \n",
      "  [6] 1.6806218  [21] 2.2265614  [36] 2.5248762  [51] 2.7416106  [66] 2.915311  [181] 3.7186858 [196] 3.7914377 \n",
      "  [7] 1.7380309  [22] 2.2506479  [37] 2.5412128  [52] 2.754288   [67] 2.9258081 [182] 3.7236726 [197] 3.7961387 \n",
      "  [8] 1.789812   [23] 2.2739462  [38] 2.5572278  [53] 2.7667869  [68] 2.9361899 [183] 3.7286391 [198] 3.8008219 \n",
      "  [9] 1.8371173  [24] 2.2965146  [39] 2.5729357  [54] 2.779113   [69] 2.9464595 [184] 3.7335854 [199] 3.8054876 \n",
      " [10] 1.8807652  [25] 2.3184046  [40] 2.5883499  [55] 2.7912718  [70] 2.9566197 [185] 3.7385118                 \n",
      " [11] 1.9213601  [26] 2.3396623  [41] 2.6034831  [56] 2.8032686  [71] 2.9666732 [186] 3.7434185 \n",
      " [12] 1.9593626  [27] 2.3603289  [42] 2.6183469  [57] 2.8151082  [72] 2.9766225 [187] 3.7483055 \n",
      " [13] 1.9951319  [28] 2.3804417  [43] 2.6329524  [58] 2.8267956  [73] 2.9864701 [188] 3.7531732 \n",
      " [14] 2.0289548  [29] 2.4000343  [44] 2.6473099  [59] 2.838335   [74] 2.9962185 [189] 3.7580217 \n",
      "\n"
     ]
    }
   ],
   "source": [
    "// apply a lambda function on a copy of the varialble\n",
    "x.copy().op().apply(v -> Math.sqrt(v + 3./8)).printContent();"
   ]
  },
  {
   "cell_type": "code",
   "execution_count": 14,
   "metadata": {},
   "outputs": [
    {
     "data": {
      "text/plain": [
       "VarDouble [name:\"x\", rowCount:200, values: 2.718281828459045, 3.718281828459045, 4.1324953908321405, 4.450332636027922, 4.718281828459045, 4.9543498059588345, 5.167771571242223, 5.364033139523636, 5.546708953205235, 5.718281828459045, ..., 16.789529107929333, 16.82501780812493]"
      ]
     },
     "execution_count": 14,
     "metadata": {},
     "output_type": "execute_result"
    }
   ],
   "source": [
    "// add a constant to all values of a copy\n",
    "x.copy().op().plus(Math.E);"
   ]
  },
  {
   "cell_type": "markdown",
   "metadata": {},
   "source": [
    "#### 1.3 Nominal variables\n",
    "\n",
    "Nominal variables are defined by`VarNominal`and contains string valued categories. Nominal variables offers integer and label representations. \n",
    "The label representation represents the categories as labels or texts, while integer representation represents the categorical levels as integer indexes. The index representation does not imply an order between categories/labels. \n",
    "\n",
    "##### 1.1.2.1 Various builders\n",
    "\n",
    "Nominal variables can be built in various was and are handy shortcuts for various scenarios.\n",
    "\n",
    "**Empty variables**"
   ]
  },
  {
   "cell_type": "code",
   "execution_count": 15,
   "metadata": {},
   "outputs": [],
   "source": [
    "// creates an empty nominal variable with provided levels\n",
    "var nom1 = VarNominal.empty(10, \"a\", \"b\");"
   ]
  },
  {
   "cell_type": "code",
   "execution_count": 16,
   "metadata": {},
   "outputs": [
    {
     "data": {
      "text/plain": [
       "[?, a, b]"
      ]
     },
     "execution_count": 16,
     "metadata": {},
     "output_type": "execute_result"
    }
   ],
   "source": [
    "// levels of a nominal variable\n",
    "nom1.levels()"
   ]
  },
  {
   "cell_type": "code",
   "execution_count": 17,
   "metadata": {},
   "outputs": [
    {
     "name": "stdout",
     "output_type": "stream",
     "text": [
      "VarNominal [name:\"?\", rowCount:10]\n",
      "row value row value row value \n",
      "[0] even  [4] even  [8] even  \n",
      "[1]  odd  [5]  odd  [9]  odd  \n",
      "[2] even  [6] even  \n",
      "[3]  odd  [7]  odd  \n",
      "\n"
     ]
    }
   ],
   "source": [
    "var nom2 = VarNominal.from(10, row -> row % 2 == 0 ? \"even\" : \"odd\");\n",
    "nom2.printContent();"
   ]
  },
  {
   "cell_type": "code",
   "execution_count": null,
   "metadata": {},
   "outputs": [],
   "source": []
  }
 ],
 "metadata": {
  "kernelspec": {
   "display_name": "Java",
   "language": "java",
   "name": "java"
  },
  "language_info": {
   "codemirror_mode": "java",
   "file_extension": ".jshell",
   "mimetype": "text/x-java-source",
   "name": "Java",
   "pygments_lexer": "java",
   "version": "11.0.2+9-LTS"
  },
  "toc-autonumbering": false,
  "toc-showmarkdowntxt": false
 },
 "nbformat": 4,
 "nbformat_minor": 4
}
