{
 "cells": [
  {
   "cell_type": "markdown",
   "metadata": {},
   "source": [
    "## Variables, Frames and Data Manipulation"
   ]
  },
  {
   "cell_type": "code",
   "execution_count": 7,
   "metadata": {},
   "outputs": [],
   "source": [
    "%load ../rapaio-bootstrap"
   ]
  },
  {
   "cell_type": "markdown",
   "metadata": {
    "toc-hr-collapsed": false
   },
   "source": [
    "There are two main data structures used all over the place: variables and frames. A variable is a list of values of the same type. You can think of a variable as a column of a table. A set of variables is a data frame. A frame is a table having observations as rows and variables as columns.\n",
    "\n",
    "Let's take a simple example. We will load the iris data set, which is provided by the the library."
   ]
  },
  {
   "cell_type": "code",
   "execution_count": 27,
   "metadata": {},
   "outputs": [
    {
     "name": "stdout",
     "output_type": "stream",
     "text": [
      "Frame Summary\n",
      "=============\n",
      "* rowCount: 150\n",
      "* complete: 150/150\n",
      "* varCount: 5\n",
      "* varNames: \n",
      "\n",
      "0. sepal-length : dbl | 3.  petal-width : dbl | \n",
      "1.  sepal-width : dbl | 4.        class : nom | \n",
      "2. petal-length : dbl | \n",
      "\n",
      "* summary: \n",
      " sepal-length [dbl]      sepal-width [dbl]      petal-length [dbl]     \n",
      "       Min. : 4.3000000       Min. : 2.0000000        Min. : 1.0000000 \n",
      "    1st Qu. : 5.1000000    1st Qu. : 2.8000000     1st Qu. : 1.6000000 \n",
      "     Median : 5.8000000     Median : 3.0000000      Median : 4.3500000 \n",
      "       Mean : 5.8433333       Mean : 3.0573333        Mean : 3.7580000 \n",
      "    2nd Qu. : 6.4000000    2nd Qu. : 3.3000000     2nd Qu. : 5.1000000 \n",
      "       Max. : 7.9000000       Max. : 4.4000000        Max. : 6.9000000 \n",
      "                                                                       \n",
      "\n",
      " petal-width [dbl]            class [nom] \n",
      "      Min. : 0.1000000 versicolor :    50 \n",
      "   1st Qu. : 0.3000000     setosa :    50 \n",
      "    Median : 1.3000000  virginica :    50 \n",
      "      Mean : 1.1993333                    \n",
      "   2nd Qu. : 1.8000000                    \n",
      "      Max. : 2.5000000                    \n",
      "                                          \n",
      "\n",
      "\n",
      "\n"
     ]
    }
   ],
   "source": [
    "Frame df = Datasets.loadIrisDataset();\n",
    "df.printSummary();"
   ]
  },
  {
   "cell_type": "markdown",
   "metadata": {},
   "source": [
    "Frame summary is a simple way to see some general information about a data frame. We see the data frame contains $150$ observations and $5$ variables.\n",
    "\n",
    "The listing continues with name and type of the variables. Notice that there are four double variables and one nominal variable, named `class`.\n",
    "\n",
    "The summary listing ends with a section which describes each variable. For double variables the summary contains the well-known $6$ number summary. We have there the minimum and maximum, median, first and third quartile and the mean. For nominal values we have an enumeration of the first most frequent levels and the associated counts. For our `class` variable we see that there are three levels, each with $50$ instances."
   ]
  },
  {
   "cell_type": "markdown",
   "metadata": {},
   "source": [
    "## Variables\n",
    "\n",
    "In statistics a variable has multiple meanings. A random variable can be thought as a process which produces values according to a distribution. `Var` objects models the concept of values drawn from a unidimensional random variable, in other words a sample of values. As a consequence a `Var` object has a size and uses indexes to access values from sample. "
   ]
  },
  {
   "cell_type": "markdown",
   "metadata": {},
   "source": [
    "A variable is an array of values of same type and meaning. Each variable implements an interface called `Var`. `Var` implements many useful methods for various kinds of tasks:\n",
    "* _manipulate values_ from the variable by adding, removing, inserting and updating with different representations\n",
    "* _naming_ a variable offers an alternate way to identify a variable into a frame and it is also useful as output information\n",
    "* _manipulate sets of values_ by with concatenation and mapping\n",
    "* _streaming_ allows traversal of variables by java streams\n",
    "* other tools like deep copy, deep compare, summary, etc"
   ]
  },
  {
   "cell_type": "markdown",
   "metadata": {},
   "source": [
    "## VarType: storage and representation of a variable"
   ]
  },
  {
   "cell_type": "markdown",
   "metadata": {},
   "source": [
    "There are two main concepts which have to be understood when working with variables: **storage** and **representation**. All the variables are able to store data internally using a Java data types like  `double`, `int`, `String`, etc. In the same time, the data from variables can be represented in different ways, all of them being available through the `Var` interface for all types of variables."
   ]
  },
  {
   "cell_type": "markdown",
   "metadata": {},
   "source": [
    "However not all the representations are possible for all types of variables, because some of them does not make sense. For example double floating values can be represented as strings, which is fine, however strings in general cannot be represented as double values."
   ]
  },
  {
   "cell_type": "markdown",
   "metadata": {},
   "source": [
    "These are the following data representations all the `Var`-iables can implement:\n",
    "\n",
    "* **double** - double\n",
    "* **int** - int\n",
    "* **long** - long\n",
    "* **instant** - Instant\n",
    "* **label** - String\n",
    "\n",
    "The `Var` interface offers methods to get/update/insert values for all those data representations. Not all data representations are available for all variables. For example the label representation is available for all sort of variables. This is acceptable, since when storing information into a text-like data format, any data type should be transformed into a string and also should be able to be read from a string representation."
   ]
  },
  {
   "cell_type": "markdown",
   "metadata": {},
   "source": [
    "To accomodate all those legal possibilities, the rapaio library has a set of predefined variable types, which can be found in the enum `VarType`.\n",
    "\n",
    "The defined variable types:\n",
    "\n",
    "VType      | Var class | Description\n",
    "-----------|-----------|-------------\n",
    "**BINARY** | VarBinary | Binary variable represented as int values, internally uses bitsets for efficient memory usage\n",
    "**INT**    | VarInt    | Integer variable represented and stored internally as int\n",
    "**NOMINAL**| VarNominal| Categorical variable represented as string from a predefined set, with no ordering (for example: _male_, _female_)\n",
    "**DOUBLE** | VarDouble | Double  variable represented and stored internally as double precision floating point values\n",
    "**LONG**   | VarLong   | Long variable represented and stored internally as long 8-byte signed integer values\n",
    "**INSTANT**| VarInstant| Instant variable represented and stored as datetime instant \n",
    "**STRING** | VarString | String variable used for manipulation of text with free form"
   ]
  },
  {
   "cell_type": "markdown",
   "metadata": {},
   "source": [
    "A data type is important for the following reasons:\n",
    "\n",
    "* gives a certain useful meaning for variables in such a way that machine learning or statistical algorithms can leverage to maximum potential the meta information about variables\n",
    "* encapsulates the stored data type artifacts and hide those details from the user, while allowing the usage of a single unified interface for all variables"
   ]
  },
  {
   "cell_type": "markdown",
   "metadata": {
    "toc-hr-collapsed": false
   },
   "source": [
    "## VarDouble"
   ]
  },
  {
   "cell_type": "markdown",
   "metadata": {
    "toc-hr-collapsed": false
   },
   "source": [
    "Numeric double variables are implemented by `VarDouble` and are used to handle discrete or continuous numerical values. Double variables offers value and label representations. All other representations can be used, but with caution since it can alter the content. For example int representation truncates floating point values to the biggest integer values, however the int setter sets a correct value since an integer can be converted to a double with no information loss."
   ]
  },
  {
   "cell_type": "markdown",
   "metadata": {
    "toc-hr-collapsed": false
   },
   "source": [
    "### Various builders\n",
    "\n",
    "Double variables can be built in various was and are handy shortcuts for various scenarios."
   ]
  },
  {
   "cell_type": "code",
   "execution_count": 33,
   "metadata": {},
   "outputs": [],
   "source": [
    "// builds a variable with no data\n",
    "Var empty1 = VarDouble.empty();\n",
    "\n",
    "// builds a variable of a given size which contains only missing data\n",
    "Var empty2 = VarDouble.empty(100);\n",
    "\n",
    "// a sequence of numbers, starting from 0, ending with 5 with step 1\n",
    "Var seq1 = VarDouble.seq(5);\n",
    "\n",
    "// a sequence of numbers, starting from 1, ending with 5 with step 1\n",
    "Var seq2 = VarDouble.seq(1, 5);\n",
    "\n",
    "// a sequence of numbers starting at 0, ending at 1 with step 0.1\n",
    "Var seq3 = VarDouble.seq(0, 1, 0.1);\n",
    "\n",
    "// build a variable of a given size which contains only zeros\n",
    "Var fill1 = VarDouble.fill(5);\n",
    "\n",
    "// builds a variable of a given size which contains only ones\n",
    "Var fill2 = VarDouble.fill(5, 1);\n",
    "\n",
    "// numeric variable which contains the values copied from another variable\n",
    "Var copy1 = VarDouble.copy(seq1);\n",
    "\n",
    "// numeric variable with values copied from a collection\n",
    "Normal normal = Normal.std();\n",
    "List<Double> list1 = DoubleStream.generate(normal::sampleNext).limit(10).boxed().collect(Collectors.toList());\n",
    "Var copy2 = VarDouble.copy(list1);\n",
    "\n",
    "// numeric variable with values copied from a double array\n",
    "Var copy3 = VarDouble.copy(1, 3, 4.0, 7);\n",
    "\n",
    "// numeric variable with values copied from an int array\n",
    "Var copy4 = VarDouble.copy(1, 3, 4, 7);\n",
    "\n",
    "// numeric variables with values generated as the sqrt of the row number\n",
    "Var from1 = VarDouble.from(10, Math::sqrt);\n",
    "\n",
    "// numeric variable with values generated using a function which receives a row value\n",
    "// as parameter and outputs a double value; in this case we generate values as\n",
    "// a sum of the values of other two variables\n",
    "Var from2 = VarDouble.from(4, row -> copy3.getDouble(row) + copy4.getDouble(row));\n",
    "\n",
    "// numeric variable with values generated from values of another variable using\n",
    "// a transformation provided via a lambda function\n",
    "Var from3 = VarDouble.from(from1, x -> x + 1);"
   ]
  },
  {
   "cell_type": "code",
   "execution_count": 30,
   "metadata": {},
   "outputs": [],
   "source": []
  },
  {
   "cell_type": "markdown",
   "metadata": {},
   "source": [
    "**Sequence of values**"
   ]
  },
  {
   "cell_type": "markdown",
   "metadata": {},
   "source": [
    "**Variables filled with the same number**"
   ]
  },
  {
   "cell_type": "code",
   "execution_count": 15,
   "metadata": {},
   "outputs": [],
   "source": []
  },
  {
   "cell_type": "markdown",
   "metadata": {},
   "source": [
    "**Copy from another source**"
   ]
  },
  {
   "cell_type": "code",
   "execution_count": 16,
   "metadata": {},
   "outputs": [],
   "source": []
  },
  {
   "cell_type": "markdown",
   "metadata": {},
   "source": [
    "**Generated using a lambda function**"
   ]
  },
  {
   "cell_type": "code",
   "execution_count": 17,
   "metadata": {},
   "outputs": [],
   "source": []
  },
  {
   "cell_type": "markdown",
   "metadata": {},
   "source": [
    "**Wrapper around a double array**\n",
    "This builder creates a new numeric variable instance as a wrapper around a double array of values. Notice that it is not the same as the copy builder, since in the wrapper case any change in the new numerical variable is reflected also in the original array of numbers. In the case of the copy builder this is not true, since the copy builder \\(as its name implies\\) creates an internal copy of the array.\n"
   ]
  },
  {
   "cell_type": "code",
   "execution_count": 18,
   "metadata": {},
   "outputs": [],
   "source": [
    "Var wrap1 = VarDouble.wrap(new double[] {1, 4, 19, 23, 5});"
   ]
  },
  {
   "cell_type": "markdown",
   "metadata": {},
   "source": [
    "##### 1.2.2 Inspect a numerical variable\n",
    "\n",
    "Most of the objects which contains information implements the `Printable` interface. This interface allows one to display a summary of the content of the given object. This is the case also with the numerical variables. Additionally, the numerical variables implements also two other methods, one which displays all the values and another one which displays only the first values."
   ]
  },
  {
   "cell_type": "code",
   "execution_count": 19,
   "metadata": {},
   "outputs": [
    {
     "name": "stdout",
     "output_type": "stream",
     "text": [
      "VarDouble [name:\"x\", rowCount:200]\n",
      " row    value     row    value     row    value     row    value    \n",
      "  [0]  0          [26]  5.0990195  [52]  7.2111026  [78]  8.8317609 \n",
      "  [1]  1          [27]  5.1961524  [53]  7.2801099  ...     ...     \n",
      "  [2]  1.4142136  [28]  5.2915026  [54]  7.3484692 [180] 13.4164079 \n",
      "  [3]  1.7320508  [29]  5.3851648  [55]  7.4161985 [181] 13.453624  \n",
      "  [4]  2          [30]  5.4772256  [56]  7.4833148 [182] 13.4907376 \n",
      "  [5]  2.236068   [31]  5.5677644  [57]  7.5498344 [183] 13.5277493 \n",
      "  [6]  2.4494897  [32]  5.6568542  [58]  7.6157731 [184] 13.56466   \n",
      "  [7]  2.6457513  [33]  5.7445626  [59]  7.6811457 [185] 13.6014705 \n",
      "  [8]  2.8284271  [34]  5.8309519  [60]  7.7459667 [186] 13.6381817 \n",
      "  [9]  3          [35]  5.9160798  [61]  7.8102497 [187] 13.6747943 \n",
      " [10]  3.1622777  [36]  6          [62]  7.8740079 [188] 13.7113092 \n",
      " [11]  3.3166248  [37]  6.0827625  [63]  7.9372539 [189] 13.7477271 \n",
      " [12]  3.4641016  [38]  6.164414   [64]  8         [190] 13.7840488 \n",
      " [13]  3.6055513  [39]  6.244998   [65]  8.0622577 [191] 13.820275  \n",
      " [14]  3.7416574  [40]  6.3245553  [66]  8.1240384 [192] 13.8564065 \n",
      " [15]  3.8729833  [41]  6.4031242  [67]  8.1853528 [193] 13.892444  \n",
      " [16]  4          [42]  6.4807407  [68]  8.2462113 [194] 13.9283883 \n",
      " [17]  4.1231056  [43]  6.5574385  [69]  8.3066239 [195] 13.96424   \n",
      " [18]  4.2426407  [44]  6.6332496  [70]  8.3666003 [196] 14         \n",
      " [19]  4.3588989  [45]  6.7082039  [71]  8.4261498 [197] 14.0356688 \n",
      " [20]  4.472136   [46]  6.78233    [72]  8.4852814 [198] 14.0712473 \n",
      " [21]  4.5825757  [47]  6.8556546  [73]  8.5440037 [199] 14.106736  \n",
      " [22]  4.6904158  [48]  6.9282032  [74]  8.6023253                  \n",
      " [23]  4.7958315  [49]  7          [75]  8.660254  \n",
      " [24]  4.8989795  [50]  7.0710678  [76]  8.7177979 \n",
      " [25]  5          [51]  7.1414284  [77]  8.7749644 \n",
      "\n",
      "VarDouble [name:\"x\", rowCount:200]\n",
      " row    value     row    value     row    value     row    value    \n",
      "  [0]  0          [50]  7.0710678 [100] 10         [150] 12.2474487 \n",
      "  [1]  1          [51]  7.1414284 [101] 10.0498756 [151] 12.2882057 \n",
      "  [2]  1.4142136  [52]  7.2111026 [102] 10.0995049 [152] 12.328828  \n",
      "  [3]  1.7320508  [53]  7.2801099 [103] 10.1488916 [153] 12.3693169 \n",
      "  [4]  2          [54]  7.3484692 [104] 10.198039  [154] 12.4096736 \n",
      "  [5]  2.236068   [55]  7.4161985 [105] 10.2469508 [155] 12.4498996 \n",
      "  [6]  2.4494897  [56]  7.4833148 [106] 10.2956301 [156] 12.489996  \n",
      "  [7]  2.6457513  [57]  7.5498344 [107] 10.3440804 [157] 12.5299641 \n",
      "  [8]  2.8284271  [58]  7.6157731 [108] 10.3923048 [158] 12.5698051 \n",
      "  [9]  3          [59]  7.6811457 [109] 10.4403065 [159] 12.6095202 \n",
      " [10]  3.1622777  [60]  7.7459667 [110] 10.4880885 [160] 12.6491106 \n",
      " [11]  3.3166248  [61]  7.8102497 [111] 10.5356538 [161] 12.6885775 \n",
      " [12]  3.4641016  [62]  7.8740079 [112] 10.5830052 [162] 12.7279221 \n",
      " [13]  3.6055513  [63]  7.9372539 [113] 10.6301458 [163] 12.7671453 \n",
      " [14]  3.7416574  [64]  8         [114] 10.6770783 [164] 12.8062485 \n",
      " [15]  3.8729833  [65]  8.0622577 [115] 10.7238053 [165] 12.8452326 \n",
      " [16]  4          [66]  8.1240384 [116] 10.7703296 [166] 12.8840987 \n",
      " [17]  4.1231056  [67]  8.1853528 [117] 10.8166538 [167] 12.922848  \n",
      " [18]  4.2426407  [68]  8.2462113 [118] 10.8627805 [168] 12.9614814 \n",
      " [19]  4.3588989  [69]  8.3066239 [119] 10.9087121 [169] 13         \n",
      " [20]  4.472136   [70]  8.3666003 [120] 10.9544512 [170] 13.0384048 \n",
      " [21]  4.5825757  [71]  8.4261498 [121] 11         [171] 13.0766968 \n",
      " [22]  4.6904158  [72]  8.4852814 [122] 11.045361  [172] 13.114877  \n",
      " [23]  4.7958315  [73]  8.5440037 [123] 11.0905365 [173] 13.1529464 \n",
      " [24]  4.8989795  [74]  8.6023253 [124] 11.1355287 [174] 13.190906  \n",
      " [25]  5          [75]  8.660254  [125] 11.1803399 [175] 13.2287566 \n",
      " [26]  5.0990195  [76]  8.7177979 [126] 11.2249722 [176] 13.2664992 \n",
      " [27]  5.1961524  [77]  8.7749644 [127] 11.2694277 [177] 13.3041347 \n",
      " [28]  5.2915026  [78]  8.8317609 [128] 11.3137085 [178] 13.3416641 \n",
      " [29]  5.3851648  [79]  8.8881944 [129] 11.3578167 [179] 13.3790882 \n",
      " [30]  5.4772256  [80]  8.9442719 [130] 11.4017543 [180] 13.4164079 \n",
      " [31]  5.5677644  [81]  9         [131] 11.4455231 [181] 13.453624  \n",
      " [32]  5.6568542  [82]  9.0553851 [132] 11.4891253 [182] 13.4907376 \n",
      " [33]  5.7445626  [83]  9.1104336 [133] 11.5325626 [183] 13.5277493 \n",
      " [34]  5.8309519  [84]  9.1651514 [134] 11.5758369 [184] 13.56466   \n",
      " [35]  5.9160798  [85]  9.2195445 [135] 11.61895   [185] 13.6014705 \n",
      " [36]  6          [86]  9.2736185 [136] 11.6619038 [186] 13.6381817 \n",
      " [37]  6.0827625  [87]  9.3273791 [137] 11.7046999 [187] 13.6747943 \n",
      " [38]  6.164414   [88]  9.3808315 [138] 11.7473401 [188] 13.7113092 \n",
      " [39]  6.244998   [89]  9.4339811 [139] 11.7898261 [189] 13.7477271 \n",
      " [40]  6.3245553  [90]  9.486833  [140] 11.8321596 [190] 13.7840488 \n",
      " [41]  6.4031242  [91]  9.539392  [141] 11.8743421 [191] 13.820275  \n",
      " [42]  6.4807407  [92]  9.591663  [142] 11.9163753 [192] 13.8564065 \n",
      " [43]  6.5574385  [93]  9.6436508 [143] 11.9582607 [193] 13.892444  \n",
      " [44]  6.6332496  [94]  9.6953597 [144] 12         [194] 13.9283883 \n",
      " [45]  6.7082039  [95]  9.7467943 [145] 12.0415946 [195] 13.96424   \n",
      " [46]  6.78233    [96]  9.797959  [146] 12.083046  [196] 14         \n",
      " [47]  6.8556546  [97]  9.8488578 [147] 12.1243557 [197] 14.0356688 \n",
      " [48]  6.9282032  [98]  9.8994949 [148] 12.1655251 [198] 14.0712473 \n",
      " [49]  7          [99]  9.9498744 [149] 12.2065556 [199] 14.106736  \n",
      "\n",
      "> summary(name: x, type: DOUBLE)\n",
      "rows: 200, complete: 200, missing: 0\n",
      "        x [dbl]      \n",
      "   Min. :  0.0000000 \n",
      "1st Qu. :  7.0533009 \n",
      " Median :  9.9749372 \n",
      "   Mean :  9.3917104 \n",
      "2nd Qu. : 12.2167789 \n",
      "   Max. : 14.1067360 \n",
      "                     \n",
      "\n",
      "\n"
     ]
    }
   ],
   "source": [
    "// build a numerical variable with values as the sqrt\n",
    "// of the first 200 integer values\n",
    "Var x = VarDouble.from(200, Math::sqrt).withName(\"x\");\n",
    "\n",
    "// print a reasonable part of value\n",
    "x.printContent();\n",
    "\n",
    "// print all values of the variable\n",
    "x.printFullContent();\n",
    "\n",
    "// print a summary of the content of the variable\n",
    "x.printSummary();"
   ]
  },
  {
   "cell_type": "code",
   "execution_count": 20,
   "metadata": {},
   "outputs": [
    {
     "data": {
      "image/png": "[encoded data removed]",
      "text/plain": [
       "BufferedImage@76c7aa58: type = 7 ColorModel: #pixelBits = 32 numComponents = 4 color space = java.awt.color.ICC_ColorSpace@130e3135 transparency = 3 has alpha = true isAlphaPre = true ByteInterleavedRaster: width = 600 height = 300 #numDataElements 4 dataOff[0] = 3"
      ]
     },
     "execution_count": 20,
     "metadata": {},
     "output_type": "execute_result"
    }
   ],
   "source": [
    "WS.image(points(x, VarDouble.from(x.rowCount(), Normal.std()::sampleNext), color(1), pch(3)), 600, 300);"
   ]
  },
  {
   "cell_type": "markdown",
   "metadata": {},
   "source": [
    "There are various mathemaical operations available under VarOp interface. The interface to those operators can be called using `op()` method on any variable. The fllowing examples uses some of those operators."
   ]
  },
  {
   "cell_type": "code",
   "execution_count": 21,
   "metadata": {},
   "outputs": [
    {
     "data": {
      "text/plain": [
       "1878.3420754046178"
      ]
     },
     "execution_count": 21,
     "metadata": {},
     "output_type": "execute_result"
    }
   ],
   "source": [
    "// computes the sum of all values in variable\n",
    "x.op().nansum();"
   ]
  },
  {
   "cell_type": "code",
   "execution_count": 22,
   "metadata": {},
   "outputs": [
    {
     "name": "stdout",
     "output_type": "stream",
     "text": [
      "VarDouble [name:\"x\", rowCount:200]\n",
      " row    value    row    value    row    value    row    value    row    value   \n",
      "  [0] 0.6123724  [21] 2.2265614  [42] 2.6183469  [63] 2.883098  [184] 3.7335854 \n",
      "  [1] 1.1726039  [22] 2.2506479  [43] 2.6329524  [64] 2.8939592 [185] 3.7385118 \n",
      "  [2] 1.3376149  [23] 2.2739462  [44] 2.6473099  [65] 2.9046958 [186] 3.7434185 \n",
      "  [3] 1.4515684  [24] 2.2965146  [45] 2.6614289  [66] 2.915311  [187] 3.7483055 \n",
      "  [4] 1.5411035  [25] 2.3184046  [46] 2.6753187  [67] 2.9258081 [188] 3.7531732 \n",
      "  [5] 1.6158799  [26] 2.3396623  [47] 2.6889877  [68] 2.9361899 [189] 3.7580217 \n",
      "  [6] 1.6806218  [27] 2.3603289  [48] 2.7024439  [69] 2.9464595 [190] 3.7628511 \n",
      "  [7] 1.7380309  [28] 2.3804417  [49] 2.7156951  [70] 2.9566197 [191] 3.7676617 \n",
      "  [8] 1.789812   [29] 2.4000343  [50] 2.7287484  [71] 2.9666732 [192] 3.7724536 \n",
      "  [9] 1.8371173  [30] 2.4191374  [51] 2.7416106  [72] 2.9766225 [193] 3.777227  \n",
      " [10] 1.8807652  [31] 2.4377786  [52] 2.754288   [73] 2.9864701 [194] 3.7819821 \n",
      " [11] 1.9213601  [32] 2.4559834  [53] 2.7667869  [74] 2.9962185 [195] 3.7867189 \n",
      " [12] 1.9593626  [33] 2.473775   [54] 2.779113   [75] 3.0058699 [196] 3.7914377 \n",
      " [13] 1.9951319  [34] 2.4911748  [55] 2.7912718  [76] 3.0154267 [197] 3.7961387 \n",
      " [14] 2.0289548  [35] 2.5082025  [56] 2.8032686  [77] 3.0248908 [198] 3.8008219 \n",
      " [15] 2.0610636  [36] 2.5248762  [57] 2.8151082  [78] 3.0342645 [199] 3.8054876 \n",
      " [16] 2.0916501  [37] 2.5412128  [58] 2.8267956  ...     ...                    \n",
      " [17] 2.1208738  [38] 2.5572278  [59] 2.838335  [180] 3.7136785 \n",
      " [18] 2.1488696  [39] 2.5729357  [60] 2.849731  [181] 3.7186858 \n",
      " [19] 2.1757525  [40] 2.5883499  [61] 2.8609875 [182] 3.7236726 \n",
      " [20] 2.2016212  [41] 2.6034831  [62] 2.8721086 [183] 3.7286391 \n",
      "\n"
     ]
    }
   ],
   "source": [
    "// apply a lambda function on a copy of the varialble\n",
    "x.copy().op().apply(v -> Math.sqrt(v + 3./8)).printContent();"
   ]
  },
  {
   "cell_type": "code",
   "execution_count": 23,
   "metadata": {},
   "outputs": [
    {
     "data": {
      "text/plain": [
       "VarDouble [name:\"x\", rowCount:200, values: 2.718281828459045, 3.718281828459045, 4.1324953908321405, 4.450332636027922, 4.718281828459045, 4.9543498059588345, 5.167771571242223, 5.364033139523636, 5.546708953205235, 5.718281828459045, ..., 16.789529107929333, 16.82501780812493]"
      ]
     },
     "execution_count": 23,
     "metadata": {},
     "output_type": "execute_result"
    }
   ],
   "source": [
    "// add a constant to all values of a copy\n",
    "x.copy().op().plus(Math.E);"
   ]
  },
  {
   "cell_type": "markdown",
   "metadata": {},
   "source": [
    "#### 1.3 Nominal variables\n",
    "\n",
    "Nominal variables are defined by`VarNominal`and contains string valued categories. Nominal variables offers integer and label representations. \n",
    "The label representation represents the categories as labels or texts, while integer representation represents the categorical levels as integer indexes. The index representation does not imply an order between categories/labels. \n",
    "\n",
    "##### 1.1.2.1 Various builders\n",
    "\n",
    "Nominal variables can be built in various was and are handy shortcuts for various scenarios.\n",
    "\n",
    "**Empty variables**"
   ]
  },
  {
   "cell_type": "code",
   "execution_count": 24,
   "metadata": {},
   "outputs": [],
   "source": [
    "// creates an empty nominal variable with provided levels\n",
    "var nom1 = VarNominal.empty(10, \"a\", \"b\");"
   ]
  },
  {
   "cell_type": "code",
   "execution_count": 25,
   "metadata": {},
   "outputs": [
    {
     "data": {
      "text/plain": [
       "[?, a, b]"
      ]
     },
     "execution_count": 25,
     "metadata": {},
     "output_type": "execute_result"
    }
   ],
   "source": [
    "// levels of a nominal variable\n",
    "nom1.levels()"
   ]
  },
  {
   "cell_type": "code",
   "execution_count": 26,
   "metadata": {},
   "outputs": [
    {
     "name": "stdout",
     "output_type": "stream",
     "text": [
      "VarNominal [name:\"?\", rowCount:10]\n",
      "row value row value row value \n",
      "[0] even  [4] even  [8] even  \n",
      "[1]  odd  [5]  odd  [9]  odd  \n",
      "[2] even  [6] even  \n",
      "[3]  odd  [7]  odd  \n",
      "\n"
     ]
    }
   ],
   "source": [
    "var nom2 = VarNominal.from(10, row -> row % 2 == 0 ? \"even\" : \"odd\");\n",
    "nom2.printContent();"
   ]
  },
  {
   "cell_type": "code",
   "execution_count": null,
   "metadata": {},
   "outputs": [],
   "source": []
  },
  {
   "cell_type": "code",
   "execution_count": null,
   "metadata": {},
   "outputs": [],
   "source": []
  }
 ],
 "metadata": {
  "kernelspec": {
   "display_name": "Java",
   "language": "java",
   "name": "java"
  },
  "language_info": {
   "codemirror_mode": "java",
   "file_extension": ".jshell",
   "mimetype": "text/x-java-source",
   "name": "Java",
   "pygments_lexer": "java",
   "version": "11.0.6+10-LTS"
  },
  "toc-autonumbering": false,
  "toc-showmarkdowntxt": false
 },
 "nbformat": 4,
 "nbformat_minor": 4
}
