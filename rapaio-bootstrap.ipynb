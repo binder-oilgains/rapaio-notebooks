{
 "cells": [
  {
   "cell_type": "markdown",
   "metadata": {},
   "source": [
    "This notebook is used to bootstrap rapaio library usage in jupyter notebooks. The activities included are:\n",
    "\n",
    "* include maved dependency on rapaio library\n",
    "* inlcude an extensive list of imports from rapaio library to make life easier\n",
    "* include a list of useful imports from java jdk\n",
    "* set up printer with default values for printer (text width and image sizes)"
   ]
  },
  {
   "cell_type": "markdown",
   "metadata": {},
   "source": [
    "      // last stable release\n",
    "      // %maven io.github.padreati:rapaio:2.0.0\n"
   ]
  },
  {
   "cell_type": "code",
   "execution_count": 10,
   "metadata": {},
   "outputs": [],
   "source": [
    "// last snapshot release\n",
    "%mavenRepo oss-sonatype-snapshots https://oss.sonatype.org/content/repositories/snapshots/\n",
    "%maven io.github.padreati:rapaio:2.0.1-SNAPSHOT"
   ]
  },
  {
   "cell_type": "code",
   "execution_count": 14,
   "metadata": {},
   "outputs": [],
   "source": [
    "\n",
    "// extensive list of useful imports from rapaio library\n",
    "\n",
    "import rapaio.core.*;\n",
    "import rapaio.core.correlation.*;\n",
    "import rapaio.core.distributions.*;\n",
    "import rapaio.core.tests.*;\n",
    "import rapaio.core.tools.*;\n",
    "import rapaio.core.stat.*;\n",
    "\n",
    "import rapaio.data.*;\n",
    "import rapaio.data.filter.*;\n",
    "import rapaio.data.filter.var.*;\n",
    "import rapaio.data.filter.frame.*;\n",
    "import rapaio.data.group.*;\n",
    "import rapaio.data.unique.*;\n",
    "\n",
    "import rapaio.datasets.*;\n",
    "\n",
    "import rapaio.graphics.*;\n",
    "import rapaio.graphics.plot.*;\n",
    "import static rapaio.graphics.Plotter.*;\n",
    "\n",
    "import rapaio.io.*;\n",
    "\n",
    "import rapaio.ml.eval.*;\n",
    "import rapaio.ml.eval.metric.*;\n",
    "import rapaio.ml.common.*;\n",
    "import rapaio.ml.classifier.*;\n",
    "import rapaio.ml.regression.linear.*;\n",
    "\n",
    "import rapaio.sys.*;\n",
    "\n",
    "\n",
    "import rapaio.experiment.core.tools.*;\n",
    "import rapaio.experiment.ml.classifier.tree.*;\n",
    "import rapaio.experiment.ml.classifier.ensemble.*;\n",
    "import rapaio.experiment.ml.eval.*;\n"
   ]
  },
  {
   "cell_type": "code",
   "execution_count": 12,
   "metadata": {},
   "outputs": [],
   "source": [
    "// list of useful imports from jdk\n",
    "\n",
    "import java.util.function.*;\n",
    "import java.util.stream.*;"
   ]
  },
  {
   "cell_type": "code",
   "execution_count": 13,
   "metadata": {},
   "outputs": [
    {
     "data": {
      "text/plain": [
       "rapaio.printer.standard.StandardPrinter@1436180a"
      ]
     },
     "execution_count": 13,
     "metadata": {},
     "output_type": "execute_result"
    }
   ],
   "source": [
    "WS.getPrinter().withTextWidth(100);\n",
    "WS.getPrinter().withGraphicShape(800, 400);"
   ]
  },
  {
   "cell_type": "code",
   "execution_count": null,
   "metadata": {},
   "outputs": [],
   "source": []
  }
 ],
 "metadata": {
  "kernelspec": {
   "display_name": "Java",
   "language": "java",
   "name": "java"
  },
  "language_info": {
   "codemirror_mode": "java",
   "file_extension": ".jshell",
   "mimetype": "text/x-java-source",
   "name": "Java",
   "pygments_lexer": "java",
   "version": "11.0.2+9-LTS"
  }
 },
 "nbformat": 4,
 "nbformat_minor": 4
}
