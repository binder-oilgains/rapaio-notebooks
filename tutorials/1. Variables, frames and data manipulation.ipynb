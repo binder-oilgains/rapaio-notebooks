{
 "cells": [
  {
   "cell_type": "code",
   "execution_count": 1,
   "metadata": {},
   "outputs": [],
   "source": [
    "%maven io.github.padreati:rapaio:2.0.0"
   ]
  },
  {
   "cell_type": "code",
   "execution_count": 2,
   "metadata": {},
   "outputs": [],
   "source": [
    "import rapaio.data.*;\n",
    "import rapaio.datasets.*;\n",
    "import rapaio.core.distributions.*;\n",
    "import rapaio.sys.*;\n",
    "import static rapaio.graphics.Plotter.*;\n",
    "\n",
    "import java.util.stream.*"
   ]
  },
  {
   "cell_type": "markdown",
   "metadata": {
    "toc-hr-collapsed": false
   },
   "source": [
    "## 1. Variables, frames and data manipulation\n",
    "\n",
    "There are two main data structures used all over the place: variables and frames. A variable is a list of values of the same type. You can think of a variable as a column in a tabular data format. A set of variables is a data frame. You can think about a frame as a table, with rows for observations and columns for variables.\n",
    "\n",
    "Let's take a simple example. We will load the iris data set, which is already contained in the library."
   ]
  },
  {
   "cell_type": "code",
   "execution_count": 3,
   "metadata": {},
   "outputs": [
    {
     "name": "stdout",
     "output_type": "stream",
     "text": [
      "Frame Summary\n",
      "=============\n",
      "* rowCount: 150\n",
      "* complete: 150/150\n",
      "* varCount: 5\n",
      "* varNames: \n",
      "\n",
      "0. sepal-length : double  | 3.  petal-width : double  | \n",
      "1.  sepal-width : double  | 4.        class : nominal | \n",
      "2. petal-length : double  | \n",
      "\n",
      "   sepal-length      sepal-width     petal-length      petal-width            class \n",
      "   Min. : 4.300     Min. : 2.000     Min. : 1.000     Min. : 0.100      setosa : 50 \n",
      "1st Qu. : 5.100  1st Qu. : 2.800  1st Qu. : 1.600  1st Qu. : 0.300  versicolor : 50 \n",
      " Median : 5.800   Median : 3.000   Median : 4.350   Median : 1.300   virginica : 50 \n",
      "   Mean : 5.843     Mean : 3.057     Mean : 3.758     Mean : 1.199                  \n",
      "2nd Qu. : 6.400  2nd Qu. : 3.300  2nd Qu. : 5.100  2nd Qu. : 1.800                  \n",
      "   Max. : 7.900     Max. : 4.400     Max. : 6.900     Max. : 2.500                  \n",
      "                                                                                    \n",
      "\n"
     ]
    }
   ],
   "source": [
    "Frame df = Datasets.loadIrisDataset();\n",
    "df.printSummary();"
   ]
  },
  {
   "cell_type": "markdown",
   "metadata": {},
   "source": [
    "Frame summary is a simple way to see some general information about a data frame. We see the data frame contains $150$ observations. The data set contains $5$ variables.\n",
    "\n",
    "The listing continues with enumerating the name and type of the variables contained in a data frame. Notice that there are four double variables and one nominal variable, named `class`.\n",
    "\n",
    "The summary listing ends with a section which describes each variable. For double variables the summary contains $6$ number summary. These are some sample order statistics and sample mean. We have there the minimum and maximum, median, first and third quartile and the mean. For nominal values we have an enumeration of the first most frequent levels and the associated counts. For our `class` variable we see that there are three levels, each with $50$ instances."
   ]
  },
  {
   "cell_type": "markdown",
   "metadata": {},
   "source": [
    "### 1.1 Variables\n",
    "\n",
    "In statistics a variable has multiple meanings. A random variable is a process which produces values according to a distribution. Random variables can have multiple dimensions, so they can be grouped in vectors. The rapaio library does not model the concept of random variable. Instead the `Var` objects models the concept of values drawn from a unidimensional random variable, in other words a sample of values. As a consequence a `Var` object has a size and uses indexes to access the values from the sample. \n",
    "\n",
    "A rapaio variable is a vector of values which have the same type and shares the same meaning. Each variable implements an interface called `Var`. Interface `Var` implements various useful methods for various kinds of tasks:\n",
    "\n",
    "* _manipulate values_ from the variable by adding, removing, inserting and updating with different representations\n",
    "* _naming_ a variable offers an alternate way to identify a variable into a frame and it is also useful for nice output information\n",
    "* _manipulate sets of values_ by allowing variables concatenation by binding rows and filter out values by mapping\n",
    "* _streaming_ allows traversal of variables by java 8 streams\n",
    "* other tools like deep copy, deep compare, summary, etc\n",
    "\n",
    "#### 1.1.1 VarType: storage and representation of a variable\n",
    "\n",
    "There are two main concepts which have to be understood when working with variables: **storage** and **representation**. All the variables are able to store data inside using a certain Java data type, for example `double`, `int`, `String`, etc. One variable can use for storage and internal manipulations a single Java data type. In the same time, the data from variables can be represented in different ways, all of them being available through the `Var` interface for all types of variables.\n",
    "\n",
    "However not all the representations are possible for all types of variables, because some of them does not make sense. For example double floating values can be represented as strings, which is fine, however strings in general cannot be represented as double values.\n",
    "\n",
    "These are the following data representations all the `Var`-iables can implement:\n",
    "\n",
    "* **double** - double\n",
    "* **label** - String\n",
    "* **int** - int\n",
    "* **long** - long / Instant\n",
    "\n",
    "The `Var` interface offers methods to get/update/insert values for all those data representations. Again, notice that not all data representations are available for all variables. For example the label representation is available for all sort of variables. This is acceptable, since when storing information into a text-like data format, any data type should be transformed into a string and should be read from a string representation.\n",
    "\n",
    "To accomodate all those legal possibilities, the rapaio library has a set of predefined variable types, which can be found in the enum `VarType`.\n",
    "\n",
    "The defined variable types:\n",
    "\n",
    "* **BINARY** - binary values\n",
    "* **INT** - integer values\n",
    "* **NOMINAL** - string values from a predefined set of values, with no ordering \\(for example: _male_, _female_\\)\n",
    "* **DOUBLE** - double precision floating point values\n",
    "* **LONG** - time related variables\n",
    "* **TEXT** - strings with free form\n",
    "\n",
    "A data type is important for the following reasons:\n",
    "\n",
    "* gives a certain useful meaning for variables in such a way that machine learning or statistical algorithms can leverage to maximum potential the meta information about variables\n",
    "* encapsulates the stored data type artifacts and hide those details from the user, while allowing the usage of a single unitar interface for all variables\n"
   ]
  },
  {
   "cell_type": "markdown",
   "metadata": {
    "toc-hr-collapsed": false
   },
   "source": [
    "#### 1.2 Numeric double variables\n",
    "\n",
    "Numeric double variables are defined by`VarDouble`and contains discrete or continuous numerical values stored as double precision float values. Double variables offers value and label representations. All other representations can be used, but with caution since it can alter the content. For example int representation truncates floating point values to the biggest integer values, however the int setter sets a correct value since an integer can be converted to a double.\n",
    "\n",
    "##### 1.2.1 Various builders\n",
    "\n",
    "Double variables can be built in various was and are handy shortcuts for various scenarios.\n",
    "\n",
    "**Empty variables**"
   ]
  },
  {
   "cell_type": "code",
   "execution_count": 4,
   "metadata": {},
   "outputs": [],
   "source": [
    "// builds a variable with no data\n",
    "Var empty1 = VarDouble.empty();\n",
    "\n",
    "// builds a variable of a given size which contains only missing data\n",
    "Var empty2 = VarDouble.empty(100);"
   ]
  },
  {
   "cell_type": "markdown",
   "metadata": {},
   "source": [
    "**Scalar variables**"
   ]
  },
  {
   "cell_type": "code",
   "execution_count": 5,
   "metadata": {},
   "outputs": [],
   "source": [
    "Var scalar = VarDouble.scalar(Math.PI);"
   ]
  },
  {
   "cell_type": "markdown",
   "metadata": {},
   "source": [
    "**Sequence of values**"
   ]
  },
  {
   "cell_type": "code",
   "execution_count": 6,
   "metadata": {},
   "outputs": [],
   "source": [
    "// a sequence of numbers, starting from 0, ending with 5 with step 1\n",
    "Var seq1 = VarDouble.seq(5);\n",
    "\n",
    "// a sequence of numbers, starting from 1, ending with 5 with step 1\n",
    "Var seq2 = VarDouble.seq(1, 5);\n",
    "\n",
    "// a sequence of numbers starting at 0, ending at 1 with step 0.1\n",
    "Var seq3 = VarDouble.seq(0, 1, 0.1);"
   ]
  },
  {
   "cell_type": "markdown",
   "metadata": {},
   "source": [
    "**Variables filled with the same number**"
   ]
  },
  {
   "cell_type": "code",
   "execution_count": 7,
   "metadata": {},
   "outputs": [],
   "source": [
    "// build a variable of a given size which contains only zeros\n",
    "Var fill1 = VarDouble.fill(5);\n",
    "\n",
    "// builds a variable of a given size which contains only ones\n",
    "Var fill2 = VarDouble.fill(5, 1);"
   ]
  },
  {
   "cell_type": "markdown",
   "metadata": {},
   "source": [
    "**Copy from another source**"
   ]
  },
  {
   "cell_type": "code",
   "execution_count": 8,
   "metadata": {},
   "outputs": [],
   "source": [
    "// numeric variable which contains the values copied from another variable\n",
    "Var copy1 = VarDouble.copy(seq1);\n",
    "\n",
    "// numeric variable with values copied from a collection\n",
    "Normal normal = Normal.std();\n",
    "List<Double> list1 = DoubleStream.generate(normal::sampleNext).limit(10).boxed().collect(Collectors.toList());\n",
    "Var copy2 = VarDouble.copy(list1);\n",
    "\n",
    "// numeric variable with values copied from a double array\n",
    "Var copy3 = VarDouble.copy(1, 3, 4.0, 7);\n",
    "\n",
    "// numeric variable with values copied from an int array\n",
    "Var copy4 = VarDouble.copy(1, 3, 4, 7);"
   ]
  },
  {
   "cell_type": "markdown",
   "metadata": {},
   "source": [
    "**Generated using a lambda function**"
   ]
  },
  {
   "cell_type": "code",
   "execution_count": 9,
   "metadata": {},
   "outputs": [],
   "source": [
    "// numeric variables with values generated as the sqrt of the row number\n",
    "Var from1 = VarDouble.from(10, Math::sqrt);\n",
    "\n",
    "// numeric variable with values generated using a function which receives a row value\n",
    "// as parameter and outputs a double value; in this case we generate values as\n",
    "// a sum of the values of other two variables\n",
    "Var from2 = VarDouble.from(4, row -> copy3.getDouble(row) + copy4.getDouble(row));\n",
    "\n",
    "// numeric variable with values generated from values of another variable using\n",
    "// a transformation provided via a lambda function\n",
    "Var from3 = VarDouble.from(from1, x -> x + 1);"
   ]
  },
  {
   "cell_type": "markdown",
   "metadata": {},
   "source": [
    "**Wrapper around a double array**\n",
    "This builder creates a new numeric variable instance as a wrapper around a double array of values. Notice that it is not the same as the copy builder, since in the wrapper case any change in the new numerical variable is reflected also in the original array of numbers. In the case of the copy builder this is not true, since the copy builder \\(as its name implies\\) creates an internal copy of the array.\n"
   ]
  },
  {
   "cell_type": "code",
   "execution_count": 10,
   "metadata": {},
   "outputs": [],
   "source": [
    "Var wrap1 = VarDouble.wrap(new double[] {1, 4, 19, 23, 5});"
   ]
  },
  {
   "cell_type": "markdown",
   "metadata": {},
   "source": [
    "##### 1.2.2 Inspect a numerical variable\n",
    "\n",
    "Most of the objects which contains information implements the `Printable` interface. This interface allows one to display a summary of the content of the given object. This is the case also with the numerical variables. Additionally, the numerical variables implements also two other methods, one which displays all the values and another one which displays only the first values."
   ]
  },
  {
   "cell_type": "code",
   "execution_count": 11,
   "metadata": {},
   "outputs": [
    {
     "name": "stdout",
     "output_type": "stream",
     "text": [
      "VarDouble [name:\"x\", rowCount:200]\n",
      " row    value     row    value     row    value     row    value     row    value     row    value     row    value     row    value     row    value     row    value    \n",
      "  [0]  0          [11]  3.3166248  [22]  4.6904158  [33]  5.7445626  [44]  6.6332496  [55]  7.4161985  [66]  8.1240384  [77]  8.7749644 [188] 13.7113092 [199] 14.106736  \n",
      "  [1]  1          [12]  3.4641016  [23]  4.7958315  [34]  5.8309519  [45]  6.7082039  [56]  7.4833148  [67]  8.1853528  [78]  8.8317609 [189] 13.7477271                  \n",
      "  [2]  1.4142136  [13]  3.6055513  [24]  4.8989795  [35]  5.9160798  [46]  6.78233    [57]  7.5498344  [68]  8.2462113  ...     ...     [190] 13.7840488 \n",
      "  [3]  1.7320508  [14]  3.7416574  [25]  5          [36]  6          [47]  6.8556546  [58]  7.6157731  [69]  8.3066239 [180] 13.4164079 [191] 13.820275  \n",
      "  [4]  2          [15]  3.8729833  [26]  5.0990195  [37]  6.0827625  [48]  6.9282032  [59]  7.6811457  [70]  8.3666003 [181] 13.453624  [192] 13.8564065 \n",
      "  [5]  2.236068   [16]  4          [27]  5.1961524  [38]  6.164414   [49]  7          [60]  7.7459667  [71]  8.4261498 [182] 13.4907376 [193] 13.892444  \n",
      "  [6]  2.4494897  [17]  4.1231056  [28]  5.2915026  [39]  6.244998   [50]  7.0710678  [61]  7.8102497  [72]  8.4852814 [183] 13.5277493 [194] 13.9283883 \n",
      "  [7]  2.6457513  [18]  4.2426407  [29]  5.3851648  [40]  6.3245553  [51]  7.1414284  [62]  7.8740079  [73]  8.5440037 [184] 13.56466   [195] 13.96424   \n",
      "  [8]  2.8284271  [19]  4.3588989  [30]  5.4772256  [41]  6.4031242  [52]  7.2111026  [63]  7.9372539  [74]  8.6023253 [185] 13.6014705 [196] 14         \n",
      "  [9]  3          [20]  4.472136   [31]  5.5677644  [42]  6.4807407  [53]  7.2801099  [64]  8          [75]  8.660254  [186] 13.6381817 [197] 14.0356688 \n",
      " [10]  3.1622777  [21]  4.5825757  [32]  5.6568542  [43]  6.5574385  [54]  7.3484692  [65]  8.0622577  [76]  8.7177979 [187] 13.6747943 [198] 14.0712473 \n",
      "\n",
      "VarDouble [name:\"x\", rowCount:200]\n",
      " row    value     row    value     row    value     row    value     row    value     row    value     row    value     row    value     row    value     row    value     row    value     row    value    \n",
      "  [0]  0          [17]  4.1231056  [34]  5.8309519  [51]  7.1414284  [68]  8.2462113  [85]  9.2195445 [102] 10.0995049 [119] 10.9087121 [136] 11.6619038 [153] 12.3693169 [170] 13.0384048 [187] 13.6747943 \n",
      "  [1]  1          [18]  4.2426407  [35]  5.9160798  [52]  7.2111026  [69]  8.3066239  [86]  9.2736185 [103] 10.1488916 [120] 10.9544512 [137] 11.7046999 [154] 12.4096736 [171] 13.0766968 [188] 13.7113092 \n",
      "  [2]  1.4142136  [19]  4.3588989  [36]  6          [53]  7.2801099  [70]  8.3666003  [87]  9.3273791 [104] 10.198039  [121] 11         [138] 11.7473401 [155] 12.4498996 [172] 13.114877  [189] 13.7477271 \n",
      "  [3]  1.7320508  [20]  4.472136   [37]  6.0827625  [54]  7.3484692  [71]  8.4261498  [88]  9.3808315 [105] 10.2469508 [122] 11.045361  [139] 11.7898261 [156] 12.489996  [173] 13.1529464 [190] 13.7840488 \n",
      "  [4]  2          [21]  4.5825757  [38]  6.164414   [55]  7.4161985  [72]  8.4852814  [89]  9.4339811 [106] 10.2956301 [123] 11.0905365 [140] 11.8321596 [157] 12.5299641 [174] 13.190906  [191] 13.820275  \n",
      "  [5]  2.236068   [22]  4.6904158  [39]  6.244998   [56]  7.4833148  [73]  8.5440037  [90]  9.486833  [107] 10.3440804 [124] 11.1355287 [141] 11.8743421 [158] 12.5698051 [175] 13.2287566 [192] 13.8564065 \n",
      "  [6]  2.4494897  [23]  4.7958315  [40]  6.3245553  [57]  7.5498344  [74]  8.6023253  [91]  9.539392  [108] 10.3923048 [125] 11.1803399 [142] 11.9163753 [159] 12.6095202 [176] 13.2664992 [193] 13.892444  \n",
      "  [7]  2.6457513  [24]  4.8989795  [41]  6.4031242  [58]  7.6157731  [75]  8.660254   [92]  9.591663  [109] 10.4403065 [126] 11.2249722 [143] 11.9582607 [160] 12.6491106 [177] 13.3041347 [194] 13.9283883 \n",
      "  [8]  2.8284271  [25]  5          [42]  6.4807407  [59]  7.6811457  [76]  8.7177979  [93]  9.6436508 [110] 10.4880885 [127] 11.2694277 [144] 12         [161] 12.6885775 [178] 13.3416641 [195] 13.96424   \n",
      "  [9]  3          [26]  5.0990195  [43]  6.5574385  [60]  7.7459667  [77]  8.7749644  [94]  9.6953597 [111] 10.5356538 [128] 11.3137085 [145] 12.0415946 [162] 12.7279221 [179] 13.3790882 [196] 14         \n",
      " [10]  3.1622777  [27]  5.1961524  [44]  6.6332496  [61]  7.8102497  [78]  8.8317609  [95]  9.7467943 [112] 10.5830052 [129] 11.3578167 [146] 12.083046  [163] 12.7671453 [180] 13.4164079 [197] 14.0356688 \n",
      " [11]  3.3166248  [28]  5.2915026  [45]  6.7082039  [62]  7.8740079  [79]  8.8881944  [96]  9.797959  [113] 10.6301458 [130] 11.4017543 [147] 12.1243557 [164] 12.8062485 [181] 13.453624  [198] 14.0712473 \n",
      " [12]  3.4641016  [29]  5.3851648  [46]  6.78233    [63]  7.9372539  [80]  8.9442719  [97]  9.8488578 [114] 10.6770783 [131] 11.4455231 [148] 12.1655251 [165] 12.8452326 [182] 13.4907376 [199] 14.106736  \n",
      " [13]  3.6055513  [30]  5.4772256  [47]  6.8556546  [64]  8          [81]  9          [98]  9.8994949 [115] 10.7238053 [132] 11.4891253 [149] 12.2065556 [166] 12.8840987 [183] 13.5277493 \n",
      " [14]  3.7416574  [31]  5.5677644  [48]  6.9282032  [65]  8.0622577  [82]  9.0553851  [99]  9.9498744 [116] 10.7703296 [133] 11.5325626 [150] 12.2474487 [167] 12.922848  [184] 13.56466   \n",
      " [15]  3.8729833  [32]  5.6568542  [49]  7          [66]  8.1240384  [83]  9.1104336 [100] 10         [117] 10.8166538 [134] 11.5758369 [151] 12.2882057 [168] 12.9614814 [185] 13.6014705 \n",
      " [16]  4          [33]  5.7445626  [50]  7.0710678  [67]  8.1853528  [84]  9.1651514 [101] 10.0498756 [118] 10.8627805 [135] 11.61895   [152] 12.328828  [169] 13         [186] 13.6381817 \n",
      "\n",
      "> printSummary(var: x)\n",
      "name: x\n",
      "type: DOUBLE\n",
      "rows: 200, complete: 200, missing: 0\n",
      "   Min. :  0.000\n",
      "1st Qu. :  7.053\n",
      " Median :  9.975\n",
      "   Mean :  9.392\n",
      "2nd Qu. : 12.217\n",
      "   Max. : 14.107\n",
      "\n"
     ]
    }
   ],
   "source": [
    "// build a numerical variable with values as the sqrt\n",
    "// of the first 200 integer values\n",
    "Var x = VarDouble.from(200, Math::sqrt).withName(\"x\");\n",
    "\n",
    "// print a reasonable part of value\n",
    "x.printContent();\n",
    "\n",
    "// print all values of the variable\n",
    "x.printFullContent();\n",
    "\n",
    "// print a summary of the content of the variable\n",
    "x.printSummary();"
   ]
  },
  {
   "cell_type": "code",
   "execution_count": 12,
   "metadata": {},
   "outputs": [
    {
     "data": {
      "image/png": "[encoded data removed]",
      "text/plain": [
       "BufferedImage@7decb3c0: type = 7 ColorModel: #pixelBits = 32 numComponents = 4 color space = java.awt.color.ICC_ColorSpace@6463544d transparency = 3 has alpha = true isAlphaPre = true ByteInterleavedRaster: width = 600 height = 300 #numDataElements 4 dataOff[0] = 3"
      ]
     },
     "execution_count": 12,
     "metadata": {},
     "output_type": "execute_result"
    }
   ],
   "source": [
    "WS.image(points(x, VarDouble.from(x.rowCount(), Normal.std()::sampleNext), color(1), pch(3)), 600, 300);"
   ]
  },
  {
   "cell_type": "markdown",
   "metadata": {},
   "source": [
    "There are various mathemaical operations available under VarOp interface. The interface to those operators can be called using `op()` method on any variable. The fllowing examples uses some of those operators."
   ]
  },
  {
   "cell_type": "code",
   "execution_count": 13,
   "metadata": {},
   "outputs": [
    {
     "data": {
      "text/plain": [
       "1878.3420754046178"
      ]
     },
     "execution_count": 13,
     "metadata": {},
     "output_type": "execute_result"
    }
   ],
   "source": [
    "// computes the sum of all values in variable\n",
    "x.op().sum();"
   ]
  },
  {
   "cell_type": "code",
   "execution_count": 14,
   "metadata": {},
   "outputs": [
    {
     "name": "stdout",
     "output_type": "stream",
     "text": [
      "VarDouble [name:\"x\", rowCount:200]\n",
      " row    value    row    value    row    value    row    value    row    value    row    value    row    value    row    value    row    value    row    value   \n",
      "  [0] 0.6123724  [11] 1.9213601  [22] 2.2506479  [33] 2.473775   [44] 2.6473099  [55] 2.7912718  [66] 2.915311   [77] 3.0248908 [188] 3.7531732 [199] 3.8054876 \n",
      "  [1] 1.1726039  [12] 1.9593626  [23] 2.2739462  [34] 2.4911748  [45] 2.6614289  [56] 2.8032686  [67] 2.9258081  [78] 3.0342645 [189] 3.7580217                 \n",
      "  [2] 1.3376149  [13] 1.9951319  [24] 2.2965146  [35] 2.5082025  [46] 2.6753187  [57] 2.8151082  [68] 2.9361899  ...     ...    [190] 3.7628511 \n",
      "  [3] 1.4515684  [14] 2.0289548  [25] 2.3184046  [36] 2.5248762  [47] 2.6889877  [58] 2.8267956  [69] 2.9464595 [180] 3.7136785 [191] 3.7676617 \n",
      "  [4] 1.5411035  [15] 2.0610636  [26] 2.3396623  [37] 2.5412128  [48] 2.7024439  [59] 2.838335   [70] 2.9566197 [181] 3.7186858 [192] 3.7724536 \n",
      "  [5] 1.6158799  [16] 2.0916501  [27] 2.3603289  [38] 2.5572278  [49] 2.7156951  [60] 2.849731   [71] 2.9666732 [182] 3.7236726 [193] 3.777227  \n",
      "  [6] 1.6806218  [17] 2.1208738  [28] 2.3804417  [39] 2.5729357  [50] 2.7287484  [61] 2.8609875  [72] 2.9766225 [183] 3.7286391 [194] 3.7819821 \n",
      "  [7] 1.7380309  [18] 2.1488696  [29] 2.4000343  [40] 2.5883499  [51] 2.7416106  [62] 2.8721086  [73] 2.9864701 [184] 3.7335854 [195] 3.7867189 \n",
      "  [8] 1.789812   [19] 2.1757525  [30] 2.4191374  [41] 2.6034831  [52] 2.754288   [63] 2.883098   [74] 2.9962185 [185] 3.7385118 [196] 3.7914377 \n",
      "  [9] 1.8371173  [20] 2.2016212  [31] 2.4377786  [42] 2.6183469  [53] 2.7667869  [64] 2.8939592  [75] 3.0058699 [186] 3.7434185 [197] 3.7961387 \n",
      " [10] 1.8807652  [21] 2.2265614  [32] 2.4559834  [43] 2.6329524  [54] 2.779113   [65] 2.9046958  [76] 3.0154267 [187] 3.7483055 [198] 3.8008219 \n",
      "\n"
     ]
    }
   ],
   "source": [
    "// apply a lambda function on a copy of the varialble\n",
    "x.copy().op().apply(v -> Math.sqrt(v + 3./8)).printContent();"
   ]
  },
  {
   "cell_type": "code",
   "execution_count": 15,
   "metadata": {},
   "outputs": [
    {
     "data": {
      "text/plain": [
       "VarDouble [name:\"x\", rowCount:200, values: 2.718281828459045, 3.718281828459045, 4.1324953908321405, 4.450332636027922, 4.718281828459045, 4.9543498059588345, 5.167771571242223, 5.364033139523636, 5.546708953205235, 5.718281828459045, ..., 16.789529107929333, 16.82501780812493]"
      ]
     },
     "execution_count": 15,
     "metadata": {},
     "output_type": "execute_result"
    }
   ],
   "source": [
    "// add a constant to all values of a copy\n",
    "x.copy().op().plus(Math.E);"
   ]
  },
  {
   "cell_type": "markdown",
   "metadata": {},
   "source": [
    "#### 1.3 Nominal variables\n",
    "\n",
    "Nominal variables are defined by`VarNominal`and contains string valued categories. Nominal variables offers integer and label representations. \n",
    "The label representation represents the categories as labels or texts, while integer representation represents the categorical levels as integer indexes. The index representation does not imply an order between categories/labels. \n",
    "\n",
    "##### 1.1.2.1 Various builders\n",
    "\n",
    "Nominal variables can be built in various was and are handy shortcuts for various scenarios.\n",
    "\n",
    "**Empty variables**"
   ]
  },
  {
   "cell_type": "code",
   "execution_count": 16,
   "metadata": {},
   "outputs": [],
   "source": [
    "// creates an empty nominal variable with provided levels\n",
    "var nom1 = VarNominal.empty(10, \"a\", \"b\");"
   ]
  },
  {
   "cell_type": "code",
   "execution_count": 17,
   "metadata": {},
   "outputs": [
    {
     "data": {
      "text/plain": [
       "[?, a, b]"
      ]
     },
     "execution_count": 17,
     "metadata": {},
     "output_type": "execute_result"
    }
   ],
   "source": [
    "// levels of a nominal variable\n",
    "nom1.levels()"
   ]
  },
  {
   "cell_type": "code",
   "execution_count": 18,
   "metadata": {},
   "outputs": [
    {
     "name": "stdout",
     "output_type": "stream",
     "text": [
      "VarNominal [name:\"?\", rowCount:10]\n",
      "row value row value row value \n",
      "[0] even  [4] even  [8] even  \n",
      "[1]  odd  [5]  odd  [9]  odd  \n",
      "[2] even  [6] even  \n",
      "[3]  odd  [7]  odd  \n",
      "\n"
     ]
    }
   ],
   "source": [
    "var nom2 = VarNominal.from(10, row -> row % 2 == 0 ? \"even\" : \"odd\");\n",
    "nom2.printContent();"
   ]
  }
 ],
 "metadata": {
  "kernelspec": {
   "display_name": "Java",
   "language": "java",
   "name": "java"
  },
  "language_info": {
   "codemirror_mode": "java",
   "file_extension": ".jshell",
   "mimetype": "text/x-java-source",
   "name": "Java",
   "pygments_lexer": "java",
   "version": "11.0.2+9-LTS"
  },
  "toc-autonumbering": false,
  "toc-showmarkdowntxt": false
 },
 "nbformat": 4,
 "nbformat_minor": 4
}
