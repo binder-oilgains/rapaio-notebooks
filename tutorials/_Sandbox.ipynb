{
 "cells": [
  {
   "cell_type": "code",
   "execution_count": 5,
   "metadata": {},
   "outputs": [],
   "source": [
    "%load ../rapaio-bootstrap"
   ]
  },
  {
   "cell_type": "code",
   "execution_count": 6,
   "metadata": {},
   "outputs": [],
   "source": [
    "DM m = DMStripe.copy(Datasets.loadIrisDataset().removeVars(\"class\"))"
   ]
  },
  {
   "cell_type": "code",
   "execution_count": 10,
   "metadata": {},
   "outputs": [],
   "source": [
    "DV mean = m.mean(0)"
   ]
  },
  {
   "cell_type": "code",
   "execution_count": 11,
   "metadata": {},
   "outputs": [],
   "source": [
    "DV sd = m.sd(0)"
   ]
  },
  {
   "cell_type": "code",
   "execution_count": 14,
   "metadata": {},
   "outputs": [
    {
     "data": {
      "text/plain": [
       "DMStripe{rowCount:150, colCount:4, values:\n",
       "[\n",
       " [ -0.8976739  1.015602  -1.3357516 -1.3110521  ], \n",
       " [ -1.1392005 -0.1315388 -1.3357516 -1.3110521  ], \n",
       " [ -1.3807271  0.3273175 -1.3923993 -1.3110521  ], \n",
       " [ -1.5014904  0.0978893 -1.279104  -1.3110521  ], \n",
       " [ -1.0184372  1.2450302 -1.3357516 -1.3110521  ], \n",
       " [ -0.535384   1.9333146 -1.1658087 -1.0486668  ], \n",
       " [ -1.5014904  0.7861738 -1.3357516 -1.1798595  ], \n",
       " [ -1.0184372  0.7861738 -1.279104  -1.3110521  ], \n",
       " [ -1.743017  -0.360967  -1.3357516 -1.3110521  ], \n",
       " [ -1.1392005  0.0978893 -1.279104  -1.4422448  ], \n",
       " [ -0.535384   1.4744583 -1.279104  -1.3110521  ], \n",
       " [ -1.2599638  0.7861738 -1.2224563 -1.3110521  ], \n",
       " [ -1.2599638 -0.1315388 -1.3357516 -1.4422448  ], \n",
       " [ -1.8637803 -0.1315388 -1.5056946 -1.4422448  ], \n",
       " [ -0.0523308  2.1627428 -1.4490469 -1.3110521  ], \n",
       " [ -0.1730941  3.0804554 -1.279104  -1.0486668  ], \n",
       " [ -0.535384   1.9333146 -1.3923993 -1.0486668  ], \n",
       " [ -0.8976739  1.015602  -1.3357516 -1.1798595  ], \n",
       " [ -0.1730941  1.7038865 -1.1658087 -1.1798595  ], \n",
       " [ -0.8976739  1.7038865 -1.279104  -1.1798595  ], \n",
       " [ -0.535384   0.7861738 -1.1658087 -1.3110521  ], \n",
       " [ -0.8976739  1.4744583 -1.279104  -1.0486668  ], \n",
       " [ -1.5014904  1.2450302 -1.5623422 -1.3110521  ], \n",
       " [ -0.8976739  0.5567457 -1.1658087 -0.9174741  ], \n",
       " [     ..         ..         ..         ..      ], \n",
       "]}"
      ]
     },
     "execution_count": 14,
     "metadata": {},
     "output_type": "execute_result"
    }
   ],
   "source": [
    "m.copy().sub(mean, 0).div(sd, 0)"
   ]
  },
  {
   "cell_type": "code",
   "execution_count": null,
   "metadata": {},
   "outputs": [],
   "source": []
  }
 ],
 "metadata": {
  "kernelspec": {
   "display_name": "Java",
   "language": "java",
   "name": "java"
  },
  "language_info": {
   "codemirror_mode": "java",
   "file_extension": ".jshell",
   "mimetype": "text/x-java-source",
   "name": "Java",
   "pygments_lexer": "java",
   "version": "11.0.6+10-LTS"
  }
 },
 "nbformat": 4,
 "nbformat_minor": 4
}
