{
 "cells": [
  {
   "cell_type": "markdown",
   "metadata": {},
   "source": [
    "# Variables"
   ]
  },
  {
   "cell_type": "code",
   "execution_count": 44,
   "metadata": {},
   "outputs": [],
   "source": [
    "%load ../rapaio-bootstrap"
   ]
  },
  {
   "cell_type": "markdown",
   "metadata": {
    "toc-hr-collapsed": false
   },
   "source": [
    "Variable represents unidimensional sets of observations which comes from the same random variable (hence the name). Because the values of a variable are supposed to be generated from the same process, they have the same type and semantic. Variables have names and are of some given types. `Var` implementations can be categorized as storage variables and view variables. Storage variables are those variables which directly contains and maintain data. View variables are higher constructs obtained by filtering and/or merging other variables. View variables does not contain data directly, but maintain refferences to storage variables it wrap and allows reading and updating operations in the same way as storage variables. "
   ]
  },
  {
   "cell_type": "markdown",
   "metadata": {
    "toc-hr-collapsed": false
   },
   "source": [
    "Strorage variables implemented have different storage types and representations. We have `VarDouble`, `VarInt`, `VarNominal`, `VarBinary`, `VarLong`, `VarString` and `VarInstant`."
   ]
  },
  {
   "cell_type": "markdown",
   "metadata": {
    "toc-hr-collapsed": false
   },
   "source": [
    "## VarDouble"
   ]
  },
  {
   "cell_type": "markdown",
   "metadata": {
    "toc-hr-collapsed": false
   },
   "source": [
    "Numeric double variables are implemented by `VarDouble` and are used to handle discrete or continuous numerical values. Double variables offers value and label representations. All other representations can be used, but with caution since it can alter the content. For example int representation truncates floating point values to the biggest integer values, however the int setter sets a correct value since an integer can be converted to a double with no information loss."
   ]
  },
  {
   "cell_type": "markdown",
   "metadata": {
    "toc-hr-collapsed": false
   },
   "source": [
    "### Various builders\n",
    "\n",
    "Double variables can be built in various was and there are handy shortcuts for various scenarios."
   ]
  },
  {
   "cell_type": "code",
   "execution_count": 2,
   "metadata": {},
   "outputs": [],
   "source": [
    "// builds a variable with no data\n",
    "Var empty1 = VarDouble.empty();\n",
    "\n",
    "// builds a variable of a given size which contains only missing data\n",
    "Var empty2 = VarDouble.empty(100);\n",
    "\n",
    "// a sequence of numbers, starting from 0, ending with 5 with step 1\n",
    "Var seq1 = VarDouble.seq(5);\n",
    "\n",
    "// a sequence of numbers, starting from 1, ending with 5 with step 1\n",
    "Var seq2 = VarDouble.seq(1, 5);\n",
    "\n",
    "// a sequence of numbers starting at 0, ending at 1 with step 0.1\n",
    "Var seq3 = VarDouble.seq(0, 1, 0.1);\n",
    "\n",
    "// build a variable of a given size which contains only zeros\n",
    "Var fill1 = VarDouble.fill(5);\n",
    "\n",
    "// builds a variable of a given size which contains only ones\n",
    "Var fill2 = VarDouble.fill(5, 1);\n",
    "\n",
    "// numeric variable which contains the values copied from another variable\n",
    "Var copy1 = VarDouble.copy(seq1);\n",
    "\n",
    "// numeric variable with values copied from a collection\n",
    "Normal normal = Normal.std();\n",
    "List<Double> list1 = DoubleStream.generate(normal::sampleNext).limit(10).boxed().collect(Collectors.toList());\n",
    "Var copy2 = VarDouble.copy(list1);\n",
    "\n",
    "// numeric variable with values copied from a double array\n",
    "Var copy3 = VarDouble.copy(1, 3, 4.0, 7);\n",
    "\n",
    "// numeric variable with values copied from an int array\n",
    "Var copy4 = VarDouble.copy(1, 3, 4, 7);\n",
    "\n",
    "// numeric variables with values generated as the sqrt of the row number\n",
    "Var from1 = VarDouble.from(10, Math::sqrt);\n",
    "\n",
    "// numeric variable with values generated using a function which receives a row value\n",
    "// as parameter and outputs a double value; in this case we generate values as\n",
    "// a sum of the values of other two variables\n",
    "Var from2 = VarDouble.from(4, row -> copy3.getDouble(row) + copy4.getDouble(row));\n",
    "\n",
    "// numeric variable with values generated from values of another variable using\n",
    "// a transformation provided via a lambda function\n",
    "Var from3 = VarDouble.from(from1, x -> x + 1);"
   ]
  },
  {
   "cell_type": "markdown",
   "metadata": {},
   "source": [
    "**Wrapper around a double array**\n",
    "This builder creates a new numeric variable instance as a wrapper around a double array of values. Notice that it is not the same as the copy builder, since in the wrapper case any change in the new numerical variable is reflected also in the original array of numbers. In the case of the copy builder this is not true, since the copy builder \\(as its name implies\\) creates an internal copy of the array.\n"
   ]
  },
  {
   "cell_type": "code",
   "execution_count": 6,
   "metadata": {},
   "outputs": [
    {
     "name": "stdout",
     "output_type": "stream",
     "text": [
      "VarDouble [name:\"?\", rowCount:4, values: 1.0, 4.0, 9.0, 16.0]\n",
      "VarDouble [name:\"?\", rowCount:4, values: 1.0, 4.0, 17.0, 16.0]\n"
     ]
    }
   ],
   "source": [
    "double[] array = DoubleArrays.newFrom(1, 5, x -> x*x);\n",
    "Var wrap1 = VarDouble.wrap(array);\n",
    "\n",
    "wrap1.printString();\n",
    "array[2] = 17;\n",
    "wrap1.printString();"
   ]
  },
  {
   "cell_type": "markdown",
   "metadata": {},
   "source": [
    "#### Printing variables"
   ]
  },
  {
   "cell_type": "markdown",
   "metadata": {},
   "source": [
    "Most of the objects which contains information implements the `Printable` interface. This interface allows one to display a summary of the content of the given object. This is the case also with the numerical variables. Additionally, the numerical variables implements also two other methods, one which displays all the values and another one which displays only the first values."
   ]
  },
  {
   "cell_type": "code",
   "execution_count": 7,
   "metadata": {},
   "outputs": [
    {
     "name": "stdout",
     "output_type": "stream",
     "text": [
      "VarDouble [name:\"x\", rowCount:200, values: 0.0, 1.0, 1.4142135623730951, 1.7320508075688772, 2.0, 2.23606797749979, 2.449489742783178, 2.6457513110645907, 2.8284271247461903, 3.0, ..., 14.071247279470288, 14.106735979665885]\n",
      "VarDouble [name:\"x\", rowCount:200]\n",
      " row    value     row    value     row    value     row    value     row    value    \n",
      "  [0]  0          [21]  4.5825757  [42]  6.4807407  [63]  7.9372539 [184] 13.56466   \n",
      "  [1]  1          [22]  4.6904158  [43]  6.5574385  [64]  8         [185] 13.6014705 \n",
      "  [2]  1.4142136  [23]  4.7958315  [44]  6.6332496  [65]  8.0622577 [186] 13.6381817 \n",
      "  [3]  1.7320508  [24]  4.8989795  [45]  6.7082039  [66]  8.1240384 [187] 13.6747943 \n",
      "  [4]  2          [25]  5          [46]  6.78233    [67]  8.1853528 [188] 13.7113092 \n",
      "  [5]  2.236068   [26]  5.0990195  [47]  6.8556546  [68]  8.2462113 [189] 13.7477271 \n",
      "  [6]  2.4494897  [27]  5.1961524  [48]  6.9282032  [69]  8.3066239 [190] 13.7840488 \n",
      "  [7]  2.6457513  [28]  5.2915026  [49]  7          [70]  8.3666003 [191] 13.820275  \n",
      "  [8]  2.8284271  [29]  5.3851648  [50]  7.0710678  [71]  8.4261498 [192] 13.8564065 \n",
      "  [9]  3          [30]  5.4772256  [51]  7.1414284  [72]  8.4852814 [193] 13.892444  \n",
      " [10]  3.1622777  [31]  5.5677644  [52]  7.2111026  [73]  8.5440037 [194] 13.9283883 \n",
      " [11]  3.3166248  [32]  5.6568542  [53]  7.2801099  [74]  8.6023253 [195] 13.96424   \n",
      " [12]  3.4641016  [33]  5.7445626  [54]  7.3484692  [75]  8.660254  [196] 14         \n",
      " [13]  3.6055513  [34]  5.8309519  [55]  7.4161985  [76]  8.7177979 [197] 14.0356688 \n",
      " [14]  3.7416574  [35]  5.9160798  [56]  7.4833148  [77]  8.7749644 [198] 14.0712473 \n",
      " [15]  3.8729833  [36]  6          [57]  7.5498344  [78]  8.8317609 [199] 14.106736  \n",
      " [16]  4          [37]  6.0827625  [58]  7.6157731  ...     ...                      \n",
      " [17]  4.1231056  [38]  6.164414   [59]  7.6811457 [180] 13.4164079 \n",
      " [18]  4.2426407  [39]  6.244998   [60]  7.7459667 [181] 13.453624  \n",
      " [19]  4.3588989  [40]  6.3245553  [61]  7.8102497 [182] 13.4907376 \n",
      " [20]  4.472136   [41]  6.4031242  [62]  7.8740079 [183] 13.5277493 \n",
      "\n",
      "VarDouble [name:\"x\", rowCount:200]\n",
      " row    value     row    value     row    value     row    value     row    value    \n",
      "  [0]  0          [40]  6.3245553  [80]  8.9442719 [120] 10.9544512 [160] 12.6491106 \n",
      "  [1]  1          [41]  6.4031242  [81]  9         [121] 11         [161] 12.6885775 \n",
      "  [2]  1.4142136  [42]  6.4807407  [82]  9.0553851 [122] 11.045361  [162] 12.7279221 \n",
      "  [3]  1.7320508  [43]  6.5574385  [83]  9.1104336 [123] 11.0905365 [163] 12.7671453 \n",
      "  [4]  2          [44]  6.6332496  [84]  9.1651514 [124] 11.1355287 [164] 12.8062485 \n",
      "  [5]  2.236068   [45]  6.7082039  [85]  9.2195445 [125] 11.1803399 [165] 12.8452326 \n",
      "  [6]  2.4494897  [46]  6.78233    [86]  9.2736185 [126] 11.2249722 [166] 12.8840987 \n",
      "  [7]  2.6457513  [47]  6.8556546  [87]  9.3273791 [127] 11.2694277 [167] 12.922848  \n",
      "  [8]  2.8284271  [48]  6.9282032  [88]  9.3808315 [128] 11.3137085 [168] 12.9614814 \n",
      "  [9]  3          [49]  7          [89]  9.4339811 [129] 11.3578167 [169] 13         \n",
      " [10]  3.1622777  [50]  7.0710678  [90]  9.486833  [130] 11.4017543 [170] 13.0384048 \n",
      " [11]  3.3166248  [51]  7.1414284  [91]  9.539392  [131] 11.4455231 [171] 13.0766968 \n",
      " [12]  3.4641016  [52]  7.2111026  [92]  9.591663  [132] 11.4891253 [172] 13.114877  \n",
      " [13]  3.6055513  [53]  7.2801099  [93]  9.6436508 [133] 11.5325626 [173] 13.1529464 \n",
      " [14]  3.7416574  [54]  7.3484692  [94]  9.6953597 [134] 11.5758369 [174] 13.190906  \n",
      " [15]  3.8729833  [55]  7.4161985  [95]  9.7467943 [135] 11.61895   [175] 13.2287566 \n",
      " [16]  4          [56]  7.4833148  [96]  9.797959  [136] 11.6619038 [176] 13.2664992 \n",
      " [17]  4.1231056  [57]  7.5498344  [97]  9.8488578 [137] 11.7046999 [177] 13.3041347 \n",
      " [18]  4.2426407  [58]  7.6157731  [98]  9.8994949 [138] 11.7473401 [178] 13.3416641 \n",
      " [19]  4.3588989  [59]  7.6811457  [99]  9.9498744 [139] 11.7898261 [179] 13.3790882 \n",
      " [20]  4.472136   [60]  7.7459667 [100] 10         [140] 11.8321596 [180] 13.4164079 \n",
      " [21]  4.5825757  [61]  7.8102497 [101] 10.0498756 [141] 11.8743421 [181] 13.453624  \n",
      " [22]  4.6904158  [62]  7.8740079 [102] 10.0995049 [142] 11.9163753 [182] 13.4907376 \n",
      " [23]  4.7958315  [63]  7.9372539 [103] 10.1488916 [143] 11.9582607 [183] 13.5277493 \n",
      " [24]  4.8989795  [64]  8         [104] 10.198039  [144] 12         [184] 13.56466   \n",
      " [25]  5          [65]  8.0622577 [105] 10.2469508 [145] 12.0415946 [185] 13.6014705 \n",
      " [26]  5.0990195  [66]  8.1240384 [106] 10.2956301 [146] 12.083046  [186] 13.6381817 \n",
      " [27]  5.1961524  [67]  8.1853528 [107] 10.3440804 [147] 12.1243557 [187] 13.6747943 \n",
      " [28]  5.2915026  [68]  8.2462113 [108] 10.3923048 [148] 12.1655251 [188] 13.7113092 \n",
      " [29]  5.3851648  [69]  8.3066239 [109] 10.4403065 [149] 12.2065556 [189] 13.7477271 \n",
      " [30]  5.4772256  [70]  8.3666003 [110] 10.4880885 [150] 12.2474487 [190] 13.7840488 \n",
      " [31]  5.5677644  [71]  8.4261498 [111] 10.5356538 [151] 12.2882057 [191] 13.820275  \n",
      " [32]  5.6568542  [72]  8.4852814 [112] 10.5830052 [152] 12.328828  [192] 13.8564065 \n",
      " [33]  5.7445626  [73]  8.5440037 [113] 10.6301458 [153] 12.3693169 [193] 13.892444  \n",
      " [34]  5.8309519  [74]  8.6023253 [114] 10.6770783 [154] 12.4096736 [194] 13.9283883 \n",
      " [35]  5.9160798  [75]  8.660254  [115] 10.7238053 [155] 12.4498996 [195] 13.96424   \n",
      " [36]  6          [76]  8.7177979 [116] 10.7703296 [156] 12.489996  [196] 14         \n",
      " [37]  6.0827625  [77]  8.7749644 [117] 10.8166538 [157] 12.5299641 [197] 14.0356688 \n",
      " [38]  6.164414   [78]  8.8317609 [118] 10.8627805 [158] 12.5698051 [198] 14.0712473 \n",
      " [39]  6.244998   [79]  8.8881944 [119] 10.9087121 [159] 12.6095202 [199] 14.106736  \n",
      "\n",
      "> summary(name: x, type: DOUBLE)\n",
      "rows: 200, complete: 200, missing: 0\n",
      "        x [dbl]      \n",
      "   Min. :  0.0000000 \n",
      "1st Qu. :  7.0533009 \n",
      " Median :  9.9749372 \n",
      "   Mean :  9.3917104 \n",
      "2nd Qu. : 12.2167789 \n",
      "   Max. : 14.1067360 \n",
      "                     \n",
      "\n",
      "\n"
     ]
    }
   ],
   "source": [
    "// build a numerical variable with values as the sqrt\n",
    "// of the first 200 integer values\n",
    "Var x = VarDouble.from(200, Math::sqrt).name(\"x\");\n",
    "\n",
    "// prints the text produced by toString \n",
    "x.printString();\n",
    "\n",
    "// print a reasonable part of value\n",
    "x.printContent();\n",
    "\n",
    "// print all values of the variable\n",
    "x.printFullContent();\n",
    "\n",
    "// print a summary of the content of the variable\n",
    "x.printSummary();"
   ]
  },
  {
   "cell_type": "code",
   "execution_count": 7,
   "metadata": {},
   "outputs": [
    {
     "data": {
      "image/png": "[encoded data removed]",
      "text/plain": [
       "BufferedImage@6ff212f6: type = 7 ColorModel: #pixelBits = 32 numComponents = 4 color space = java.awt.color.ICC_ColorSpace@b6b067e transparency = 3 has alpha = true isAlphaPre = true ByteInterleavedRaster: width = 600 height = 300 #numDataElements 4 dataOff[0] = 3"
      ]
     },
     "execution_count": 7,
     "metadata": {},
     "output_type": "execute_result"
    }
   ],
   "source": [
    "WS.image(points(x, VarDouble.from(x.size(), Normal.std()::sampleNext), color(1), pch(3)), 600, 300);"
   ]
  },
  {
   "cell_type": "markdown",
   "metadata": {},
   "source": [
    "#### VarOp interface\n",
    "There are various mathemaical operations available under VarOp interface. The interface to those operators can be called using `op()` method on any variable. The fllowing examples uses some of those operators."
   ]
  },
  {
   "cell_type": "code",
   "execution_count": 8,
   "metadata": {},
   "outputs": [
    {
     "data": {
      "text/plain": [
       "1878.3420754046178"
      ]
     },
     "execution_count": 8,
     "metadata": {},
     "output_type": "execute_result"
    }
   ],
   "source": [
    "// computes the sum of all values in variable\n",
    "x.op().nansum();"
   ]
  },
  {
   "cell_type": "code",
   "execution_count": 9,
   "metadata": {},
   "outputs": [
    {
     "name": "stdout",
     "output_type": "stream",
     "text": [
      "VarDouble [name:\"x\", rowCount:200]\n",
      " row    value    row    value    row    value    row    value    row    value   \n",
      "  [0] 0.6123724  [21] 2.2265614  [42] 2.6183469  [63] 2.883098  [184] 3.7335854 \n",
      "  [1] 1.1726039  [22] 2.2506479  [43] 2.6329524  [64] 2.8939592 [185] 3.7385118 \n",
      "  [2] 1.3376149  [23] 2.2739462  [44] 2.6473099  [65] 2.9046958 [186] 3.7434185 \n",
      "  [3] 1.4515684  [24] 2.2965146  [45] 2.6614289  [66] 2.915311  [187] 3.7483055 \n",
      "  [4] 1.5411035  [25] 2.3184046  [46] 2.6753187  [67] 2.9258081 [188] 3.7531732 \n",
      "  [5] 1.6158799  [26] 2.3396623  [47] 2.6889877  [68] 2.9361899 [189] 3.7580217 \n",
      "  [6] 1.6806218  [27] 2.3603289  [48] 2.7024439  [69] 2.9464595 [190] 3.7628511 \n",
      "  [7] 1.7380309  [28] 2.3804417  [49] 2.7156951  [70] 2.9566197 [191] 3.7676617 \n",
      "  [8] 1.789812   [29] 2.4000343  [50] 2.7287484  [71] 2.9666732 [192] 3.7724536 \n",
      "  [9] 1.8371173  [30] 2.4191374  [51] 2.7416106  [72] 2.9766225 [193] 3.777227  \n",
      " [10] 1.8807652  [31] 2.4377786  [52] 2.754288   [73] 2.9864701 [194] 3.7819821 \n",
      " [11] 1.9213601  [32] 2.4559834  [53] 2.7667869  [74] 2.9962185 [195] 3.7867189 \n",
      " [12] 1.9593626  [33] 2.473775   [54] 2.779113   [75] 3.0058699 [196] 3.7914377 \n",
      " [13] 1.9951319  [34] 2.4911748  [55] 2.7912718  [76] 3.0154267 [197] 3.7961387 \n",
      " [14] 2.0289548  [35] 2.5082025  [56] 2.8032686  [77] 3.0248908 [198] 3.8008219 \n",
      " [15] 2.0610636  [36] 2.5248762  [57] 2.8151082  [78] 3.0342645 [199] 3.8054876 \n",
      " [16] 2.0916501  [37] 2.5412128  [58] 2.8267956  ...     ...                    \n",
      " [17] 2.1208738  [38] 2.5572278  [59] 2.838335  [180] 3.7136785 \n",
      " [18] 2.1488696  [39] 2.5729357  [60] 2.849731  [181] 3.7186858 \n",
      " [19] 2.1757525  [40] 2.5883499  [61] 2.8609875 [182] 3.7236726 \n",
      " [20] 2.2016212  [41] 2.6034831  [62] 2.8721086 [183] 3.7286391 \n",
      "\n"
     ]
    }
   ],
   "source": [
    "// apply a lambda function on a copy of the varialble\n",
    "x.copy().op().apply(v -> Math.sqrt(v + 3./8)).printContent();"
   ]
  },
  {
   "cell_type": "code",
   "execution_count": 10,
   "metadata": {},
   "outputs": [
    {
     "data": {
      "text/plain": [
       "VarDouble [name:\"x\", rowCount:200, values: 2.718281828459045, 3.718281828459045, 4.1324953908321405, 4.450332636027922, 4.718281828459045, 4.9543498059588345, 5.167771571242223, 5.364033139523636, 5.546708953205235, 5.718281828459045, ..., 16.789529107929333, 16.82501780812493]"
      ]
     },
     "execution_count": 10,
     "metadata": {},
     "output_type": "execute_result"
    }
   ],
   "source": [
    "// add a constant to all values of a copy\n",
    "x.copy().op().plus(Math.E);"
   ]
  },
  {
   "cell_type": "markdown",
   "metadata": {},
   "source": [
    "## Nominal variables"
   ]
  },
  {
   "cell_type": "markdown",
   "metadata": {},
   "source": [
    "Nominal variables are defined by`VarNominal`and contains string valued categories. Nominal variables offers integer and label representations. The label representation describes the categories as labels or texts, while integer representation is an integer indexe on categories. The index representation does not imply an order between categories/labels. "
   ]
  },
  {
   "cell_type": "markdown",
   "metadata": {},
   "source": [
    "### Various builders"
   ]
  },
  {
   "cell_type": "markdown",
   "metadata": {},
   "source": [
    "Nominal variables can be built in various was and are handy shortcuts for various scenarios."
   ]
  },
  {
   "cell_type": "code",
   "execution_count": 11,
   "metadata": {},
   "outputs": [
    {
     "data": {
      "text/plain": [
       "[?, a, b]"
      ]
     },
     "execution_count": 11,
     "metadata": {},
     "output_type": "execute_result"
    }
   ],
   "source": [
    "// creates an empty nominal variable with provided levels\n",
    "var nom1 = VarNominal.empty(10, \"a\", \"b\");\n",
    "// note the first label which is a placeholder for missing values\n",
    "nom1.levels();"
   ]
  },
  {
   "cell_type": "code",
   "execution_count": 13,
   "metadata": {},
   "outputs": [
    {
     "name": "stdout",
     "output_type": "stream",
     "text": [
      "VarNominal [name:\"?\", rowCount:10, values: even, odd, even, odd, even, odd, even, odd, even, odd]\n"
     ]
    }
   ],
   "source": [
    "VarNominal.from(10, row -> row % 2 == 0 ? \"even\" : \"odd\").printString();"
   ]
  },
  {
   "cell_type": "code",
   "execution_count": 15,
   "metadata": {},
   "outputs": [
    {
     "name": "stdout",
     "output_type": "stream",
     "text": [
      "VarNominal [name:\"?\", rowCount:4]\n",
      "row value \n",
      "[0]   a   \n",
      "[1]   b   \n",
      "[2]   c   \n",
      "[3]   b   \n",
      "\n"
     ]
    }
   ],
   "source": [
    "VarNominal.copy(\"a\", \"b\", \"c\", \"b\").printContent()"
   ]
  },
  {
   "cell_type": "code",
   "execution_count": 16,
   "metadata": {},
   "outputs": [
    {
     "data": {
      "text/plain": [
       "UniqueLabel{count=3, values=[a:1,b:2,c:1]}"
      ]
     },
     "execution_count": 16,
     "metadata": {},
     "output_type": "execute_result"
    }
   ],
   "source": [
    "Unique.of(VarNominal.copy(\"a\",\"b\",\"c\",\"b\"))"
   ]
  },
  {
   "cell_type": "markdown",
   "metadata": {},
   "source": [
    "## Overview of variable types"
   ]
  },
  {
   "cell_type": "markdown",
   "metadata": {},
   "source": [
    "All variables implements a common API making easy the manipulation of it's content in a generic way. However, depending on type, some variables might not implement some operations or rely back on specific implementations which makes sense for that variable type. For example, for a numeric variable it makes sense to set the value at some specific index in order to change it. For nominal variables, the same operation would not make sense. Instead of the meaning 'change numerical value at some given position' will have the following semantic 'change the string value to that category associated with the rounded integer value of the double parameter'. Let's see an example:  "
   ]
  },
  {
   "cell_type": "code",
   "execution_count": 26,
   "metadata": {},
   "outputs": [
    {
     "name": "stdout",
     "output_type": "stream",
     "text": [
      "VarNominal [name:\"?\", rowCount:2, values: a, b]\n",
      "VarNominal [name:\"?\", rowCount:2, values: b, b]\n"
     ]
    }
   ],
   "source": [
    "// we create a nominal value with label `a` of first position and label `b` on the second position\n",
    "var nom = VarNominal.copy(\"a\", \"b\");\n",
    "nom.printString();\n",
    "\n",
    "// set the value from the first position to the label which corresponds to indexed label 2, which is `b`\n",
    "nom.setDouble(0, 2.1);\n",
    "// let's see the result\n",
    "nom.printString();"
   ]
  },
  {
   "cell_type": "markdown",
   "metadata": {},
   "source": [
    "### Missing values"
   ]
  },
  {
   "cell_type": "markdown",
   "metadata": {},
   "source": [
    "All variables offers API for missing values. A missing value is a special value which is used as placeholder for an unspecified value. We can have missing values for various reasons. There are cases when the data set does not contains some values because the experimenter did not collect it. Sometimes having a value does not make sense, for example a male cannot be pregnant, so measuring any metric related with pregnancy have missing value for male subjects. Also, missing values can appear as an effect of data manipulation operations, like joining two data frames which does not present a one-to-one presence relation.\n",
    "\n",
    "Missing values are different for each representation, which makes sense since a double value have a different type than a String. "
   ]
  },
  {
   "cell_type": "code",
   "execution_count": 72,
   "metadata": {},
   "outputs": [
    {
     "name": "stdout",
     "output_type": "stream",
     "text": [
      "NaN\n",
      "?\n",
      "2.147483647E9\n"
     ]
    }
   ],
   "source": [
    "WS.println(VarDouble.MISSING_VALUE);\n",
    "WS.println(VarNominal.MISSING_VALUE);\n",
    "WS.println(VarInt.MISSING_VALUE);"
   ]
  },
  {
   "cell_type": "markdown",
   "metadata": {},
   "source": [
    "Most of time we do not have to deals directly with the missing value placeholders, since `Var` and `Frame` interfaces offers a way to handle gracefully missing value operations. Below is an illustrative example:"
   ]
  },
  {
   "cell_type": "code",
   "execution_count": 34,
   "metadata": {},
   "outputs": [
    {
     "name": "stdout",
     "output_type": "stream",
     "text": [
      "VarDouble [name:\"x\", rowCount:11, values: 0.0, 1.0, 2.0, 3.0, 4.0, 5.0, 6.0, 7.0, 8.0, 9.0, 10.0]\n"
     ]
    }
   ],
   "source": [
    "var x = VarDouble.seq(10).name(\"x\");\n",
    "x.printString();"
   ]
  },
  {
   "cell_type": "code",
   "execution_count": 36,
   "metadata": {},
   "outputs": [
    {
     "name": "stdout",
     "output_type": "stream",
     "text": [
      "VarDouble [name:\"x\", rowCount:11, values: 0.0, 1.0, ?, 3.0, ?, 5.0, ?, 7.0, 8.0, 9.0, 10.0]\n"
     ]
    }
   ],
   "source": [
    "// put missing on values from indexes 2,4 and 6\n",
    "x.setMissing(2);\n",
    "x.setMissing(4);\n",
    "x.setMissing(6);\n",
    "x.printString();"
   ]
  },
  {
   "cell_type": "code",
   "execution_count": 37,
   "metadata": {},
   "outputs": [
    {
     "data": {
      "text/plain": [
       "8"
      ]
     },
     "execution_count": 37,
     "metadata": {},
     "output_type": "execute_result"
    }
   ],
   "source": [
    "// count the number of non missing values\n",
    "x.stream().complete().count();"
   ]
  },
  {
   "cell_type": "code",
   "execution_count": 38,
   "metadata": {},
   "outputs": [
    {
     "data": {
      "text/plain": [
       "43.0"
      ]
     },
     "execution_count": 38,
     "metadata": {},
     "output_type": "execute_result"
    }
   ],
   "source": [
    "// compute the sum of all non missing values\n",
    "x.op().nansum();"
   ]
  },
  {
   "cell_type": "markdown",
   "metadata": {},
   "source": [
    "### Var Iterators"
   ]
  },
  {
   "cell_type": "markdown",
   "metadata": {},
   "source": [
    "Each `Var` allows easy data manipulation through iterators. There is a generic construct available for each variable implementation which under the form of `VSpot`. In the terminology used in `rapaio` a spot is a position in a variable which can contain a value. Since that value can have different reporesentation, the `VSpot` interface is used to manipulate what happen in a given position. Additionally there are various iterators which can be used for other data representations. The example below are illustrative:"
   ]
  },
  {
   "cell_type": "code",
   "execution_count": 75,
   "metadata": {},
   "outputs": [],
   "source": [
    "var d = VarDouble.seq(3).name(\"d\");"
   ]
  },
  {
   "cell_type": "code",
   "execution_count": 76,
   "metadata": {},
   "outputs": [
    {
     "name": "stdout",
     "output_type": "stream",
     "text": [
      "0.0\n",
      "1.0\n",
      "2.0\n",
      "3.0\n"
     ]
    }
   ],
   "source": [
    "// iterate through double values, we can do this because we have the specific type VarDouble\n",
    "for(double value : d) WS.println(value)"
   ]
  },
  {
   "cell_type": "code",
   "execution_count": 77,
   "metadata": {},
   "outputs": [
    {
     "name": "stdout",
     "output_type": "stream",
     "text": [
      "0.0\n",
      "1.0\n",
      "2.0\n",
      "3.0\n"
     ]
    }
   ],
   "source": [
    "// for each spot print the string representation\n",
    "d.forEachSpot(s -> WS.println(s.getLabel()))"
   ]
  },
  {
   "cell_type": "code",
   "execution_count": 78,
   "metadata": {},
   "outputs": [
    {
     "name": "stdout",
     "output_type": "stream",
     "text": [
      "6.0\n",
      "6.0\n"
     ]
    }
   ],
   "source": [
    "// compute the sum using spot iterator and streaming API\n",
    "WS.println(d.stream().mapToDouble(VSpot::getDouble).sum());\n",
    "WS.println(d.op().nansum());"
   ]
  },
  {
   "cell_type": "code",
   "execution_count": 79,
   "metadata": {},
   "outputs": [
    {
     "name": "stdout",
     "output_type": "stream",
     "text": [
      "VarInt [name:\"?\", rowCount:3, values: 0, 2, 4]\n"
     ]
    }
   ],
   "source": [
    "// display the row indexes of all values which are missing\n",
    "var y = VarDouble.copy(1, Double.NaN, 2, Double.NaN, 3);\n",
    "// collect indexes to an int array\n",
    "int[] indexes = y.stream().filter(s -> !s.isMissing()).mapToInt(s -> s.row()).toArray();\n",
    "// create a var int wrapper to see the content\n",
    "VarInt.wrap(indexes).printString();"
   ]
  }
 ],
 "metadata": {
  "kernelspec": {
   "display_name": "Java",
   "language": "java",
   "name": "java"
  },
  "language_info": {
   "codemirror_mode": "java",
   "file_extension": ".jshell",
   "mimetype": "text/x-java-source",
   "name": "Java",
   "pygments_lexer": "java",
   "version": "15+36-1562"
  }
 },
 "nbformat": 4,
 "nbformat_minor": 4
}
