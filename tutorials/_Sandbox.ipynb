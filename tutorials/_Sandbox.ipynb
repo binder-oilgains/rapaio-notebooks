{
 "cells": [
  {
   "cell_type": "code",
   "execution_count": 1,
   "metadata": {},
   "outputs": [],
   "source": [
    "%load ../rapaio-bootstrap"
   ]
  },
  {
   "cell_type": "code",
   "execution_count": 3,
   "metadata": {},
   "outputs": [],
   "source": [
    "%%loadFromPOM\n",
    "<repository>\n",
    "  <id>mvnrepository</id>\n",
    "  <url>https://mvnrepository.com/artifact/org.json/json</url>\n",
    "</repository>\n",
    "\n",
    "<dependency>\n",
    "  <groupId>org.json</groupId>\n",
    "  <artifactId>json</artifactId>\n",
    "  <version>20200518</version>\n",
    "</dependency>"
   ]
  },
  {
   "cell_type": "code",
   "execution_count": null,
   "metadata": {},
   "outputs": [],
   "source": []
  },
  {
   "cell_type": "code",
   "execution_count": 4,
   "metadata": {},
   "outputs": [
    {
     "data": {
      "text/plain": [
       "[{\"name\":\"name1\",\"id\":\"1\"}]"
      ]
     },
     "execution_count": 4,
     "metadata": {},
     "output_type": "execute_result"
    }
   ],
   "source": [
    "import org.json.JSONArray;\n",
    "import org.json.JSONException;\n",
    "import org.json.JSONObject;\n",
    "\n",
    "JSONObject myjsonobj = new JSONObject();\n",
    "        myjsonobj.put(\"id\", \"1\");\n",
    "        myjsonobj.put(\"name\", \"name1\");\n",
    "JSONArray jsonArray = new JSONArray();\n",
    "jsonArray.put(myjsonobj);"
   ]
  },
  {
   "cell_type": "markdown",
   "metadata": {},
   "source": [
    "20180813\n",
    "20190722\n",
    "20200518"
   ]
  }
 ],
 "metadata": {
  "kernelspec": {
   "display_name": "Java",
   "language": "java",
   "name": "java"
  },
  "language_info": {
   "codemirror_mode": "java",
   "file_extension": ".jshell",
   "mimetype": "text/x-java-source",
   "name": "Java",
   "pygments_lexer": "java",
   "version": "11.0.6+10-LTS"
  }
 },
 "nbformat": 4,
 "nbformat_minor": 4
}
