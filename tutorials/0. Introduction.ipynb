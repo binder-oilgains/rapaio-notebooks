{
 "cells": [
  {
   "cell_type": "markdown",
   "metadata": {},
   "source": [
    "## Rapaio Tutorials\n",
    "\n",
    "This collection of notebooks presents features of the rapaio library. Rapaio library is a statistics, data mining and machine learning library written in Java. The presented material is organized in jupyter notebooks.\n",
    "\n",
    "_This book is a continuous work in progress. Please give feedback. I would also love to drop some comments or suggestions on text._\n"
   ]
  },
  {
   "cell_type": "markdown",
   "metadata": {},
   "source": [
    "## Information about how to run notebooks\n",
    "\n",
    "I use the excelent Jupyter Kernel called IJava. You can find it here: __[https://github.com/SpencerPark/IJava](https://github.com/SpencerPark/IJava)__. The instructions presented in section *Install from sources* works like a charm and after I configured the kernel to take more memory I simply launched the jupyter-lab. \n",
    "\n",
    "Those tutorials could also be executed online via binder. See links from __[https://github.com/padreati/rapaio-notebooks](https://github.com/padreati/rapaio-notebooks)__."
   ]
  },
  {
   "cell_type": "markdown",
   "metadata": {},
   "source": [
    "## Why another library for statistics and machine learning?\n",
    "\n",
    "There are a lot of software stacks out there, which provides plenty of nicely crafted tools for statistics, machine learning, data mining or pattern recognition. Many of them are available as open source, quality is high and they are full of reach features.\n",
    "\n",
    "We have *R* which is a standard even for companies these days. *R* provides a language, an interactive data analysis workbench and solid visualization. *R* also incorporates the experience of many sound scientists who contributed to it.\n",
    "\n",
    "There are Python stacks, which benefits from the fact that Python is a simple and elegant language and works excellent like a glue language. We have *numpy*, *scipy*, *scikit-learn* and plenty of other things. There is also *matplotlib* which is beautiful and flexible. There is also *IPython* which gives to the interactive analysis a new dimension.\n",
    "\n",
    "There are also some other tools with different purposes or principles, like *Weka*, *Shogun*, *Spark* with *MLib* and so on. Some of them are have a lot of implemented algorithms. Some of them leverage distributed computation. Some of them exploits GPUs or other types of grids. And so on.\n",
    "\n",
    "That being said, it appears like a legitimate question to ask \"*Why another library for statistics and machine learning?*\". Socrates said that \"*understanding a question is half of an answer*\". In our case the question would be complete if we append it with context. It now becomes: \"*Why another library for statistics and machine learning, when there are many available already?*\". Thus, a new question arises: why so many libraries out there?. My answer is: because none of them covers the taste and needs of everybody.\n",
    "\n",
    "## Prerequisites\n",
    "\n",
    "Rapaio library is written in Java. Since this is a continuous work in progress, the best way to use the library is to have the source code and use it locally. Of course, this is not the only possibility. One can get the published releases and use only the compiled artifacts. A list of published releases is [on github](https://github.com/padreati/rapaio/releases).\n",
    "\n",
    "As far as I understand, one can commit code for a github project in two ways.\n",
    "The first one is to clone a project you like and the second one is to commit\n",
    "directly into a project which either you own or you collaborate on.\n",
    "\n",
    "Either way you have to get a link from github to the project. In case of collaboration, the direct link to rapaio project is `https://github.com/padreati/rapaio.git`. For a cloned repository you would get a link like `https://github.com/your_user_name/rapaio`, where *your_user_name* is your user name (sic!).\n",
    "\n",
    "Rapaio library depends only on two external libraries. It depends on JUnit for unit testing and it depends on fastutil for working (in some places) with Java collections over value types. You can find more details on fastutil library here: __[http://fastutil.di.unimi.it/](http://fastutil.di.unimi.it/)__"
   ]
  }
 ],
 "metadata": {
  "kernelspec": {
   "display_name": "Java",
   "language": "java",
   "name": "java"
  },
  "language_info": {
   "codemirror_mode": "java",
   "file_extension": ".jshell",
   "mimetype": "text/x-java-source",
   "name": "Java",
   "pygments_lexer": "java",
   "version": "11.0.2+9-LTS"
  }
 },
 "nbformat": 4,
 "nbformat_minor": 4
}
