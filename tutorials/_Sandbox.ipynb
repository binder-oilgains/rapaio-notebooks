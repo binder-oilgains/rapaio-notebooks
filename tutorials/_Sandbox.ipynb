{
 "cells": [
  {
   "cell_type": "code",
   "execution_count": 1,
   "metadata": {},
   "outputs": [],
   "source": [
    "%load ../rapaio-bootstrap"
   ]
  },
  {
   "cell_type": "code",
   "execution_count": null,
   "metadata": {},
   "outputs": [],
   "source": []
  },
  {
   "cell_type": "code",
   "execution_count": 4,
   "metadata": {},
   "outputs": [
    {
     "data": {
      "text/plain": [
       "[{\"name\":\"name1\",\"id\":\"1\"}]"
      ]
     },
     "execution_count": 4,
     "metadata": {},
     "output_type": "execute_result"
    }
   ],
   "source": [
    "import org.json.JSONArray;\n",
    "import org.json.JSONException;\n",
    "import org.json.JSONObject;\n",
    "\n",
    "JSONObject myjsonobj = new JSONObject();\n",
    "        myjsonobj.put(\"id\", \"1\");\n",
    "        myjsonobj.put(\"name\", \"name1\");\n",
    "JSONArray jsonArray = new JSONArray();\n",
    "jsonArray.put(myjsonobj);"
   ]
  },
  {
   "cell_type": "markdown",
   "metadata": {},
   "source": [
    "20180813\n",
    "20190722\n",
    "20200518"
   ]
  }
 ],
 "metadata": {
  "kernelspec": {
   "display_name": "Java",
   "language": "java",
   "name": "java"
  },
  "language_info": {
   "codemirror_mode": "java",
   "file_extension": ".jshell",
   "mimetype": "text/x-java-source",
   "name": "Java",
   "pygments_lexer": "java",
   "version": "15+36-1562"
  }
 },
 "nbformat": 4,
 "nbformat_minor": 4
}
