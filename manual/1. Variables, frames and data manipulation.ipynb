{
 "cells": [
  {
   "cell_type": "code",
   "execution_count": 1,
   "metadata": {
    "collapsed": true
   },
   "outputs": [],
   "source": [
    "%maven io.github.padreati:rapaio:2.0.0"
   ]
  },
  {
   "cell_type": "markdown",
   "metadata": {},
   "source": [
    "## 1. Variables, frames and data manipulation\n",
    "\n",
    "There are two main data structures used all over the place: variables and frames. A variable is a list of values of the same type. You can think of a variable as a column in a tabular data format. A set of variables is a data frame. You can think about a frame as a table, with rows for observations and columns for variables.\n",
    "\n",
    "Let's take a simple example. We will load the iris data set, which is already contained in the library."
   ]
  },
  {
   "cell_type": "code",
   "execution_count": 2,
   "metadata": {
    "collapsed": true
   },
   "outputs": [],
   "source": [
    "import rapaio.data.*;\n",
    "import rapaio.datasets.*;\n",
    "import rapaio.core.distributions.*;\n",
    "import rapaio.sys.*;\n",
    "\n",
    "import java.util.stream.*"
   ]
  },
  {
   "cell_type": "code",
   "execution_count": 3,
   "metadata": {},
   "outputs": [
    {
     "data": {
      "text/plain": [
       "rapaio.printer.standard.StandardPrinter@64bc1712"
      ]
     },
     "execution_count": 3,
     "metadata": {},
     "output_type": "execute_result"
    }
   ],
   "source": [
    "WS.getPrinter().withTextWidth(110);\n",
    "WS.getPrinter().withGraphicShape(800, 600);"
   ]
  },
  {
   "cell_type": "code",
   "execution_count": 4,
   "metadata": {},
   "outputs": [
    {
     "name": "stdout",
     "output_type": "stream",
     "text": [
      "Frame Summary\n",
      "=============\n",
      "* rowCount: 150\n",
      "* complete: 150/150\n",
      "* varCount: 5\n",
      "* varNames: \n",
      "\n",
      "0. sepal-length : double  | 3.  petal-width : double  | \n",
      "1.  sepal-width : double  | 4.        class : nominal | \n",
      "2. petal-length : double  | \n",
      "\n",
      "   sepal-length      sepal-width     petal-length      petal-width            class \n",
      "   Min. : 4.300     Min. : 2.000     Min. : 1.000     Min. : 0.100      setosa : 50 \n",
      "1st Qu. : 5.100  1st Qu. : 2.800  1st Qu. : 1.600  1st Qu. : 0.300  versicolor : 50 \n",
      " Median : 5.800   Median : 3.000   Median : 4.350   Median : 1.300   virginica : 50 \n",
      "   Mean : 5.843     Mean : 3.057     Mean : 3.758     Mean : 1.199                  \n",
      "2nd Qu. : 6.400  2nd Qu. : 3.300  2nd Qu. : 5.100  2nd Qu. : 1.800                  \n",
      "   Max. : 7.900     Max. : 4.400     Max. : 6.900     Max. : 2.500                  \n",
      "                                                                                    \n",
      "\n"
     ]
    }
   ],
   "source": [
    "Frame df = Datasets.loadIrisDataset();\n",
    "df.printSummary();"
   ]
  },
  {
   "cell_type": "markdown",
   "metadata": {},
   "source": [
    "Frame summary is a simple way to see some general information about a data frame. We see the data frame contains $150$ observations. The data set contains $5$ variables.\n",
    "\n",
    "The listing continues with enumerating the name and type of the variables contained in a data frame. Notice that there are four double variables and one nominal variable, named `class`.\n",
    "\n",
    "The summary listing ends with a section which describes each variable. For double variables the summary contains $6$ number summary. These are some sample order statistics and sample mean. We have there the minimum and maximum, median, first and third quartile and the mean. For nominal values we have an enumeration of the first most frequent levels and the associated counts. For our `class` variable we see that there are three levels, each with $50$ instances."
   ]
  },
  {
   "cell_type": "markdown",
   "metadata": {},
   "source": [
    "### 1.1 Variables\n",
    "\n",
    "In statistics a variable has multiple meanings. A random variable is a process which produces values according to a distribution. Random variables can have multiple dimensions, so they can be grouped in vectors. The rapaio library does not model the concept of random variable. Instead the `Var` objects models the concept of values drawn from a unidimensional random variable, in other words a sample of values. As a consequence a `Var` object has a size and uses indexes to access the values from the sample. \n",
    "\n",
    "A rapaio variable is a vector of values which have the same type and shares the same meaning. Each variable implements an interface called `Var`. Interface `Var` implements various useful methods for various kinds of tasks:\n",
    "\n",
    "* _manipulate values_ from the variable by adding, removing, inserting and updating with different representations\n",
    "* _naming_ a variable offers an alternate way to identify a variable into a frame and it is also useful for nice output information\n",
    "* _manipulate sets of values_ by allowing variables concatenation by binding rows and filter out values by mapping\n",
    "* _streaming_ allows traversal of variables by java 8 streams\n",
    "* other tools like deep copy, deep compare, summary, etc\n",
    "\n",
    "#### 1.1.1 VarType: storage and representation of a variable\n",
    "\n",
    "There are two main concepts which have to be understood when working with variables: **storage** and **representation**. All the variables are able to store data inside using a certain Java data type, for example `double`, `int`, `String`, etc. One variable can use for storage and internal manipulations a single Java data type. In the same time, the data from variables can be represented in different ways, all of them being available through the `Var` interface for all types of variables.\n",
    "\n",
    "However not all the representations are possible for all types of variables, because some of them does not make sense. For example double floating values can be represented as strings, which is fine, however strings in general cannot be represented as double values.\n",
    "\n",
    "These are the following data representations all the `Var`-iables can implement:\n",
    "\n",
    "* **double** - double\n",
    "* **label** - String\n",
    "* **int** - int\n",
    "* **long** - long / Instant\n",
    "\n",
    "The `Var` interface offers methods to get/update/insert values for all those data representations. Again, notice that not all data representations are available for all variables. For example the label representation is available for all sort of variables. This is acceptable, since when storing information into a text-like data format, any data type should be transformed into a string and should be read from a string representation.\n",
    "\n",
    "To accomodate all those legal possibilities, the rapaio library has a set of predefined variable types, which can be found in the enum `VarType`.\n",
    "\n",
    "The defined variable types:\n",
    "\n",
    "* **BINARY** - binary values\n",
    "* **INT** - integer values\n",
    "* **NOMINAL** - string values from a predefined set of values, with no ordering \\(for example: _male_, _female_\\)\n",
    "* **DOUBLE** - double precision floating point values\n",
    "* **LONG** - time related variables\n",
    "* **TEXT** - strings with free form\n",
    "\n",
    "A data type is important for the following reasons:\n",
    "\n",
    "* gives a certain useful meaning for variables in such a way that machine learning or statistical algorithms can leverage to maximum potential the meta information about variables\n",
    "* encapsulates the stored data type artifacts and hide those details from the user, while allowing the usage of a single unitar interface for all variables\n"
   ]
  },
  {
   "cell_type": "markdown",
   "metadata": {},
   "source": [
    "#### 1.1.2 Numeric double variables\n",
    "\n",
    "Numeric double variables are defined by`VarDouble`and contains discrete or continuous numerical values stored as double precision float values. Double variables offers value and label representations. All other representations can be used, but with caution since it can alter the content. For example int representation truncates floating point values to the biggest integer values, however the int setter sets a correct value since an integer can be converted to a double.\n",
    "\n",
    "##### 1.1.2.1 Various builders\n",
    "\n",
    "Double variables can be built in various was and are handy shortcuts for various scenarios.\n",
    "\n",
    "**Empty variables**"
   ]
  },
  {
   "cell_type": "code",
   "execution_count": 5,
   "metadata": {
    "collapsed": true
   },
   "outputs": [],
   "source": [
    "// builds a variable with no data\n",
    "Var empty1 = VarDouble.empty();\n",
    "\n",
    "// builds a variable of a given size which contains only missing data\n",
    "Var empty2 = VarDouble.empty(100);"
   ]
  },
  {
   "cell_type": "markdown",
   "metadata": {},
   "source": [
    "**Scalar variables**"
   ]
  },
  {
   "cell_type": "code",
   "execution_count": 6,
   "metadata": {
    "collapsed": true
   },
   "outputs": [],
   "source": [
    "Var scalar = VarDouble.scalar(Math.PI);"
   ]
  },
  {
   "cell_type": "markdown",
   "metadata": {},
   "source": [
    "**Sequence of values**"
   ]
  },
  {
   "cell_type": "code",
   "execution_count": 7,
   "metadata": {
    "collapsed": true
   },
   "outputs": [],
   "source": [
    "// a sequence of numbers, starting from 0, ending with 5 with step 1\n",
    "Var seq1 = VarDouble.seq(5);\n",
    "\n",
    "// a sequence of numbers, starting from 1, ending with 5 with step 1\n",
    "Var seq2 = VarDouble.seq(1, 5);\n",
    "\n",
    "// a sequence of numbers starting at 0, ending at 1 with step 0.1\n",
    "Var seq3 = VarDouble.seq(0, 1, 0.1);"
   ]
  },
  {
   "cell_type": "markdown",
   "metadata": {},
   "source": [
    "**Variables filled with the same number**"
   ]
  },
  {
   "cell_type": "code",
   "execution_count": 8,
   "metadata": {
    "collapsed": true
   },
   "outputs": [],
   "source": [
    "// build a variable of a given size which contains only zeros\n",
    "Var fill1 = VarDouble.fill(5);\n",
    "\n",
    "// builds a variable of a given size which contains only ones\n",
    "Var fill2 = VarDouble.fill(5, 1);"
   ]
  },
  {
   "cell_type": "markdown",
   "metadata": {},
   "source": [
    "**Copy from another source**"
   ]
  },
  {
   "cell_type": "code",
   "execution_count": 9,
   "metadata": {
    "collapsed": true
   },
   "outputs": [],
   "source": [
    "// numeric variable which contains the values copied from another variable\n",
    "Var copy1 = VarDouble.copy(seq1);\n",
    "\n",
    "// numeric variable with values copied from a collection\n",
    "Normal normal = Normal.std();\n",
    "List<Double> list1 = DoubleStream.generate(normal::sampleNext)\n",
    ".limit(10)\n",
    ".boxed()\n",
    ".collect(Collectors.toList());\n",
    "Var copy2 = VarDouble.copy(list1);\n",
    "\n",
    "// numeric variable with values copied from a double array\n",
    "Var copy3 = VarDouble.copy(1, 3, 4.0, 7);\n",
    "\n",
    "// numeric variable with values copied from an int array\n",
    "Var copy4 = VarDouble.copy(1, 3, 4, 7);"
   ]
  },
  {
   "cell_type": "markdown",
   "metadata": {},
   "source": [
    "**Generated using a lambda function**"
   ]
  },
  {
   "cell_type": "code",
   "execution_count": 10,
   "metadata": {
    "collapsed": true
   },
   "outputs": [],
   "source": [
    "// numeric variables with values generated as the sqrt of the row number\n",
    "Var from1 = VarDouble.from(10, Math::sqrt);\n",
    "\n",
    "// numeric variable with values generated using a function which receives a row value\n",
    "// as parameter and outputs a double value; in this case we generate values as\n",
    "// a sum of the values of other two variables\n",
    "Var from2 = VarDouble.from(4, row -> copy3.getDouble(row) + copy4.getDouble(row));\n",
    "\n",
    "// numeric variable with values generated from values of another variable using\n",
    "// a transformation provided via a lambda function\n",
    "Var from3 = VarDouble.from(from1, x -> x + 1);"
   ]
  },
  {
   "cell_type": "markdown",
   "metadata": {},
   "source": [
    "**Wrapper around a double array**\n",
    "This builder creates a new numeric variable instance as a wrapper around a double array of values. Notice that it is not the same as the copy builder, since in the wrapper case any change in the new numerical variable is reflected also in the original array of numbers. In the case of the copy builder this is not true, since the copy builder \\(as its name implies\\) creates an internal copy of the array.\n"
   ]
  },
  {
   "cell_type": "code",
   "execution_count": 11,
   "metadata": {
    "collapsed": true
   },
   "outputs": [],
   "source": [
    "double[] src = new double[] {1, 4, 19, 23, 5};\n",
    "Var wrap1 = VarDouble.wrap(src);"
   ]
  },
  {
   "cell_type": "markdown",
   "metadata": {},
   "source": [
    "##### 1.1.2.2 Inspect a numerical variable\n",
    "\n",
    "Most of the objects which contains information implements the `Printable` interface. This interface allows one to display a summary of the content of the given object. This is the case also with the numerical variables. Additionally, the numerical variables implements also two other methods, one which displays all the values and another one which displays only the first values."
   ]
  },
  {
   "cell_type": "code",
   "execution_count": 12,
   "metadata": {},
   "outputs": [
    {
     "name": "stdout",
     "output_type": "stream",
     "text": [
      "VarDouble [name:\"x\", rowCount:200]\n",
      " row    value     row    value     row    value     row    value     row    value     row    value     row    value    \n",
      "  [0]  0          [15]  3.8729833  [30]  5.4772256  [45]  6.7082039  [60]  7.7459667  [75]  8.660254  [190] 13.7840488 \n",
      "  [1]  1          [16]  4          [31]  5.5677644  [46]  6.78233    [61]  7.8102497  [76]  8.7177979 [191] 13.820275  \n",
      "  [2]  1.4142136  [17]  4.1231056  [32]  5.6568542  [47]  6.8556546  [62]  7.8740079  [77]  8.7749644 [192] 13.8564065 \n",
      "  [3]  1.7320508  [18]  4.2426407  [33]  5.7445626  [48]  6.9282032  [63]  7.9372539  [78]  8.8317609 [193] 13.892444  \n",
      "  [4]  2          [19]  4.3588989  [34]  5.8309519  [49]  7          [64]  8          ...     ...     [194] 13.9283883 \n",
      "  [5]  2.236068   [20]  4.472136   [35]  5.9160798  [50]  7.0710678  [65]  8.0622577 [180] 13.4164079 [195] 13.96424   \n",
      "  [6]  2.4494897  [21]  4.5825757  [36]  6          [51]  7.1414284  [66]  8.1240384 [181] 13.453624  [196] 14         \n",
      "  [7]  2.6457513  [22]  4.6904158  [37]  6.0827625  [52]  7.2111026  [67]  8.1853528 [182] 13.4907376 [197] 14.0356688 \n",
      "  [8]  2.8284271  [23]  4.7958315  [38]  6.164414   [53]  7.2801099  [68]  8.2462113 [183] 13.5277493 [198] 14.0712473 \n",
      "  [9]  3          [24]  4.8989795  [39]  6.244998   [54]  7.3484692  [69]  8.3066239 [184] 13.56466   [199] 14.106736  \n",
      " [10]  3.1622777  [25]  5          [40]  6.3245553  [55]  7.4161985  [70]  8.3666003 [185] 13.6014705                  \n",
      " [11]  3.3166248  [26]  5.0990195  [41]  6.4031242  [56]  7.4833148  [71]  8.4261498 [186] 13.6381817 \n",
      " [12]  3.4641016  [27]  5.1961524  [42]  6.4807407  [57]  7.5498344  [72]  8.4852814 [187] 13.6747943 \n",
      " [13]  3.6055513  [28]  5.2915026  [43]  6.5574385  [58]  7.6157731  [73]  8.5440037 [188] 13.7113092 \n",
      " [14]  3.7416574  [29]  5.3851648  [44]  6.6332496  [59]  7.6811457  [74]  8.6023253 [189] 13.7477271 \n",
      "\n",
      "VarDouble [name:\"x\", rowCount:200]\n",
      " row    value     row    value     row    value     row    value     row    value     row    value     row    value    \n",
      "  [0]  0          [29]  5.3851648  [58]  7.6157731  [87]  9.3273791 [116] 10.7703296 [145] 12.0415946 [174] 13.190906  \n",
      "  [1]  1          [30]  5.4772256  [59]  7.6811457  [88]  9.3808315 [117] 10.8166538 [146] 12.083046  [175] 13.2287566 \n",
      "  [2]  1.4142136  [31]  5.5677644  [60]  7.7459667  [89]  9.4339811 [118] 10.8627805 [147] 12.1243557 [176] 13.2664992 \n",
      "  [3]  1.7320508  [32]  5.6568542  [61]  7.8102497  [90]  9.486833  [119] 10.9087121 [148] 12.1655251 [177] 13.3041347 \n",
      "  [4]  2          [33]  5.7445626  [62]  7.8740079  [91]  9.539392  [120] 10.9544512 [149] 12.2065556 [178] 13.3416641 \n",
      "  [5]  2.236068   [34]  5.8309519  [63]  7.9372539  [92]  9.591663  [121] 11         [150] 12.2474487 [179] 13.3790882 \n",
      "  [6]  2.4494897  [35]  5.9160798  [64]  8          [93]  9.6436508 [122] 11.045361  [151] 12.2882057 [180] 13.4164079 \n",
      "  [7]  2.6457513  [36]  6          [65]  8.0622577  [94]  9.6953597 [123] 11.0905365 [152] 12.328828  [181] 13.453624  \n",
      "  [8]  2.8284271  [37]  6.0827625  [66]  8.1240384  [95]  9.7467943 [124] 11.1355287 [153] 12.3693169 [182] 13.4907376 \n",
      "  [9]  3          [38]  6.164414   [67]  8.1853528  [96]  9.797959  [125] 11.1803399 [154] 12.4096736 [183] 13.5277493 \n",
      " [10]  3.1622777  [39]  6.244998   [68]  8.2462113  [97]  9.8488578 [126] 11.2249722 [155] 12.4498996 [184] 13.56466   \n",
      " [11]  3.3166248  [40]  6.3245553  [69]  8.3066239  [98]  9.8994949 [127] 11.2694277 [156] 12.489996  [185] 13.6014705 \n",
      " [12]  3.4641016  [41]  6.4031242  [70]  8.3666003  [99]  9.9498744 [128] 11.3137085 [157] 12.5299641 [186] 13.6381817 \n",
      " [13]  3.6055513  [42]  6.4807407  [71]  8.4261498 [100] 10         [129] 11.3578167 [158] 12.5698051 [187] 13.6747943 \n",
      " [14]  3.7416574  [43]  6.5574385  [72]  8.4852814 [101] 10.0498756 [130] 11.4017543 [159] 12.6095202 [188] 13.7113092 \n",
      " [15]  3.8729833  [44]  6.6332496  [73]  8.5440037 [102] 10.0995049 [131] 11.4455231 [160] 12.6491106 [189] 13.7477271 \n",
      " [16]  4          [45]  6.7082039  [74]  8.6023253 [103] 10.1488916 [132] 11.4891253 [161] 12.6885775 [190] 13.7840488 \n",
      " [17]  4.1231056  [46]  6.78233    [75]  8.660254  [104] 10.198039  [133] 11.5325626 [162] 12.7279221 [191] 13.820275  \n",
      " [18]  4.2426407  [47]  6.8556546  [76]  8.7177979 [105] 10.2469508 [134] 11.5758369 [163] 12.7671453 [192] 13.8564065 \n",
      " [19]  4.3588989  [48]  6.9282032  [77]  8.7749644 [106] 10.2956301 [135] 11.61895   [164] 12.8062485 [193] 13.892444  \n",
      " [20]  4.472136   [49]  7          [78]  8.8317609 [107] 10.3440804 [136] 11.6619038 [165] 12.8452326 [194] 13.9283883 \n",
      " [21]  4.5825757  [50]  7.0710678  [79]  8.8881944 [108] 10.3923048 [137] 11.7046999 [166] 12.8840987 [195] 13.96424   \n",
      " [22]  4.6904158  [51]  7.1414284  [80]  8.9442719 [109] 10.4403065 [138] 11.7473401 [167] 12.922848  [196] 14         \n",
      " [23]  4.7958315  [52]  7.2111026  [81]  9         [110] 10.4880885 [139] 11.7898261 [168] 12.9614814 [197] 14.0356688 \n",
      " [24]  4.8989795  [53]  7.2801099  [82]  9.0553851 [111] 10.5356538 [140] 11.8321596 [169] 13         [198] 14.0712473 \n",
      " [25]  5          [54]  7.3484692  [83]  9.1104336 [112] 10.5830052 [141] 11.8743421 [170] 13.0384048 [199] 14.106736  \n",
      " [26]  5.0990195  [55]  7.4161985  [84]  9.1651514 [113] 10.6301458 [142] 11.9163753 [171] 13.0766968 \n",
      " [27]  5.1961524  [56]  7.4833148  [85]  9.2195445 [114] 10.6770783 [143] 11.9582607 [172] 13.114877  \n",
      " [28]  5.2915026  [57]  7.5498344  [86]  9.2736185 [115] 10.7238053 [144] 12         [173] 13.1529464 \n",
      "\n",
      "> printSummary(var: x)\n",
      "name: x\n",
      "type: DOUBLE\n",
      "rows: 200, complete: 200, missing: 0\n",
      "   Min. :  0.000\n",
      "1st Qu. :  7.053\n",
      " Median :  9.975\n",
      "   Mean :  9.392\n",
      "2nd Qu. : 12.217\n",
      "   Max. : 14.107\n",
      "\n"
     ]
    }
   ],
   "source": [
    "// build a numerical variable with values as the sqrt\n",
    "// of the first 200 integer values\n",
    "Var x = VarDouble.from(200, Math::sqrt).withName(\"x\");\n",
    "\n",
    "// print a reasonable part of value\n",
    "x.printContent();\n",
    "\n",
    "// print all values of the variable\n",
    "x.printFullContent();\n",
    "\n",
    "// print a summary of the content of the variable\n",
    "x.printSummary();"
   ]
  },
  {
   "cell_type": "code",
   "execution_count": 19,
   "metadata": {},
   "outputs": [
    {
     "name": "stdout",
     "output_type": "stream",
     "text": [
      "VarDouble [name:\"x\", rowCount:200]\n",
      " row    value    row    value    row    value    row    value    row    value    row    value    row    value   \n",
      "  [0] 0          [15] 1.5837063  [30] 1.8682923  [45] 2.0422852  [60] 2.1685926  [75] 2.2680199 [190] 2.6935488 \n",
      "  [1] 0.6931472  [16] 1.6094379  [31] 1.8821735  [46] 2.0518558  [61] 2.1759158  [76] 2.273959  [191] 2.6959962 \n",
      "  [2] 0.8813736  [17] 1.6337608  [32] 1.895647   [47] 2.0612336  [62] 2.1831265  [77] 2.2798245 [192] 2.6984312 \n",
      "  [3] 1.0050525  [18] 1.6568253  [33] 1.9087366  [48] 2.0704264  [63] 2.1902284  [78] 2.285618  [193] 2.700854  \n",
      "  [4] 1.0986123  [19] 1.6787585  [34] 1.921464   [49] 2.0794415  [64] 2.1972246  ...     ...    [194] 2.7032647 \n",
      "  [5] 1.174359   [20] 1.699669   [35] 1.9338491  [50] 2.0882858  [65] 2.2041183 [180] 2.668367  [195] 2.7056634 \n",
      "  [6] 1.2382263  [21] 1.7196503  [36] 1.9459101  [51] 2.0969656  [66] 2.2109125 [181] 2.6709452 [196] 2.7080502 \n",
      "  [7] 1.2935625  [22] 1.7387833  [37] 1.957664   [52] 2.1054872  [67] 2.2176101 [182] 2.6735097 [197] 2.7104253 \n",
      "  [8] 1.342454   [23] 1.757139   [38] 1.9691263  [53] 2.1138562  [68] 2.2242139 [183] 2.6760606 [198] 2.7127888 \n",
      "  [9] 1.3862944  [24] 1.7747794  [39] 1.9803113  [54] 2.1220782  [69] 2.2307264 [184] 2.678598  [199] 2.7151407 \n",
      " [10] 1.4260624  [25] 1.7917595  [40] 1.9912324  [55] 2.1301582  [70] 2.2371502 [185] 2.6811222                 \n",
      " [11] 1.4624738  [26] 1.808128   [41] 2.0019021  [56] 2.1381013  [71] 2.2434877 [186] 2.6836333 \n",
      " [12] 1.496068   [27] 1.8239285  [42] 2.0123318  [57] 2.1459119  [72] 2.2497413 [187] 2.6861314 \n",
      " [13] 1.5272624  [28] 1.8391999  [43] 2.0225323  [58] 2.1535946  [73] 2.2559131 [188] 2.6886165 \n",
      " [14] 1.5563867  [29] 1.8539773  [44] 2.0325136  [59] 2.1611535  [74] 2.2620053 [189] 2.691089  \n",
      "\n"
     ]
    }
   ],
   "source": [
    "x.copy().op().apply(Math::log1p).printContent();"
   ]
  },
  {
   "cell_type": "code",
   "execution_count": 13,
   "metadata": {},
   "outputs": [
    {
     "name": "stdout",
     "output_type": "stream",
     "text": [
      "> printSummary(var: x)\n",
      "name: x\n",
      "type: DOUBLE\n",
      "rows: 200, complete: 200, missing: 0\n",
      "   Min. :  0.000\n",
      "1st Qu. :  7.053\n",
      " Median :  9.975\n",
      "   Mean :  9.392\n",
      "2nd Qu. : 12.217\n",
      "   Max. : 14.107\n",
      "\n"
     ]
    }
   ],
   "source": []
  },
  {
   "cell_type": "code",
   "execution_count": 15,
   "metadata": {
    "collapsed": true
   },
   "outputs": [],
   "source": [
    "import static rapaio.graphics.Plotter.*;"
   ]
  },
  {
   "cell_type": "code",
   "execution_count": 27,
   "metadata": {},
   "outputs": [
    {
     "data": {
      "image/png": "[encoded data removed]",
      "text/plain": [
       "BufferedImage@62063710: type = 7 ColorModel: #pixelBits = 32 numComponents = 4 color space = java.awt.color.ICC_ColorSpace@e873bc7 transparency = 3 has alpha = true isAlphaPre = true ByteInterleavedRaster: width = 800 height = 600 #numDataElements 4 dataOff[0] = 3"
      ]
     },
     "execution_count": 27,
     "metadata": {},
     "output_type": "execute_result"
    }
   ],
   "source": [
    "WS.image(points(x, VarDouble.from(x.rowCount(), v -> Normal.of(0, 1).sampleNext()), color(1), pch(3)));"
   ]
  },
  {
   "cell_type": "code",
   "execution_count": 30,
   "metadata": {},
   "outputs": [
    {
     "data": {
      "text/plain": [
       "1878.3420754046178"
      ]
     },
     "execution_count": 30,
     "metadata": {},
     "output_type": "execute_result"
    }
   ],
   "source": [
    "x.op().sum();"
   ]
  },
  {
   "cell_type": "code",
   "execution_count": 18,
   "metadata": {
    "collapsed": true
   },
   "outputs": [],
   "source": [
    "double square(double x) { return x*x; };"
   ]
  },
  {
   "cell_type": "code",
   "execution_count": 19,
   "metadata": {},
   "outputs": [
    {
     "data": {
      "text/plain": [
       "289.0"
      ]
     },
     "execution_count": 19,
     "metadata": {},
     "output_type": "execute_result"
    }
   ],
   "source": [
    "square(w);"
   ]
  },
  {
   "cell_type": "code",
   "execution_count": null,
   "metadata": {
    "collapsed": true
   },
   "outputs": [],
   "source": []
  }
 ],
 "metadata": {
  "kernelspec": {
   "display_name": "Java",
   "language": "java",
   "name": "java"
  },
  "language_info": {
   "codemirror_mode": "java",
   "file_extension": ".jshell",
   "mimetype": "text/x-java-source",
   "name": "Java",
   "pygments_lexer": "java",
   "version": "11.0.2+9-LTS"
  }
 },
 "nbformat": 4,
 "nbformat_minor": 2
}
